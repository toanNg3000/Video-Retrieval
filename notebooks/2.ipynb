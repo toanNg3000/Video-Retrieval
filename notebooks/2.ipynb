{
 "cells": [
  {
   "cell_type": "code",
   "execution_count": 2,
   "metadata": {},
   "outputs": [],
   "source": [
    "import os\n",
    "import faiss\n",
    "import numpy as np\n",
    "from tqdm import tqdm\n",
    "import json\n",
    "import sys \n",
    "sys.path.append(\"../\")\n",
    "from modules.settings import (\n",
    "    PROJECT_DIR,\n",
    "    DEFAULT_CLIP_FEATURE_DIR,\n",
    "    DEFAULT_CLIP_FEATURE_V2_DIR,\n",
    "    DEFAULT_DB_V1_DIR,\n",
    "    DEFAULT_DB_V2_DIR,\n",
    ")"
   ]
  },
  {
   "cell_type": "code",
   "execution_count": 3,
   "metadata": {},
   "outputs": [],
   "source": [
    "def faiss_indexing(model: str, feature_length: int, db_dir: str):\n",
    "    \"\"\"\n",
    "    - Indexing clip features in the index object\n",
    "    - Create an dictionary for mapping from the index of the index object to the keyframe\n",
    "    \"\"\"\n",
    "\n",
    "    features_dir = os.path.join(db_dir, \"clip_features\", model)\n",
    "    keyframes_dir = os.path.join(db_dir, \"keyframes\")\n",
    "\n",
    "    print(features_dir)\n",
    "    print(db_dir)\n",
    "\n",
    "    idx2keyframe = {}\n",
    "    video2idx = {}\n",
    "    pack2idx = {}\n",
    "\n",
    "    i = 0\n",
    "\n",
    "    index = faiss.IndexFlatIP(feature_length)\n",
    "\n",
    "    for feature_file in tqdm(\n",
    "        sorted(os.listdir(features_dir))\n",
    "    ):  # feature: 'L01_V001.npy'\n",
    "\n",
    "        # for feature_path in tqdm(sorted(glob.glob(os.path.join(features_dir, data_part) +'/*.npy'))):\n",
    "        video_name, _ = os.path.splitext(feature_file)  # remove .npy, L01_V001\n",
    "\n",
    "        keyframe_names = os.listdir(f\"{keyframes_dir}/{video_name}\")\n",
    "        keyframe_names = sorted(keyframe_names)\n",
    "\n",
    "        feature_path = os.path.join(features_dir, feature_file)\n",
    "        feats = np.load(feature_path)\n",
    "\n",
    "        start_idx = i\n",
    "        for idx, feat in enumerate(feats):\n",
    "            feat = feat.astype(np.float32).reshape(1, -1)\n",
    "            faiss.normalize_L2(feat)  # Normalize for cosine similarity\n",
    "            index.add(feat)  # Add feature to the index\n",
    "            # create a starting index 0\n",
    "            # update\n",
    "            idx2keyframe[i] = f\"{video_name}/{keyframe_names[idx]}\"\n",
    "            i += 1\n",
    "        video2idx[video_name] = (start_idx, i - 1)\n",
    "\n",
    "    for video_name in video2idx:\n",
    "        pack_name, _ = video_name.split(\"_\")\n",
    "        start, end = video2idx[video_name]\n",
    "        if pack_name not in pack2idx:\n",
    "            pack2idx[pack_name] = [start, end]\n",
    "        else:\n",
    "            pack2idx[pack_name][1] = end\n",
    "        \n",
    "    # Write the index to a binary file\n",
    "    index_path = os.path.join(db_dir, \"faiss-index\", \"faiss_clip.bin\")\n",
    "    os.makedirs(os.path.dirname(index_path), exist_ok=True)\n",
    "    faiss.write_index(index, index_path)\n",
    "\n",
    "    # Save idx2keyframe mapping as JSON\n",
    "    idx2keyframe_path = os.path.join(db_dir, \"faiss-index\", \"idx2keyframe.json\")\n",
    "    with open(idx2keyframe_path, \"w\") as f:\n",
    "        json.dump(idx2keyframe, f, indent=4)\n",
    "\n",
    "    video2idx_path = os.path.join(db_dir, \"faiss-index\", \"video2idx.json\")\n",
    "    with open(video2idx_path, \"w\") as f:\n",
    "        json.dump(video2idx, f, indent=4)\n",
    "\n",
    "    pack2idx_path = os.path.join(db_dir, \"faiss-index\", \"pack2idx.json\")\n",
    "    with open(pack2idx_path, \"w\") as f:\n",
    "        json.dump(pack2idx, f, indent=4)\n",
    "\n",
    "    return index"
   ]
  },
  {
   "cell_type": "code",
   "execution_count": 4,
   "metadata": {},
   "outputs": [
    {
     "name": "stdout",
     "output_type": "stream",
     "text": [
      "z:\\github\\Amatos_hcm_ai\\notebooks\\../db\\clip_features\\ViT-L-14\n",
      "z:\\github\\Amatos_hcm_ai\\notebooks\\../db\n"
     ]
    },
    {
     "name": "stderr",
     "output_type": "stream",
     "text": [
      "100%|██████████| 726/726 [00:01<00:00, 501.47it/s]\n"
     ]
    }
   ],
   "source": [
    "MODEL = \"ViT-L-14\"\n",
    "feature_length = 768\n",
    "\n",
    "index = faiss_indexing(MODEL, feature_length, DEFAULT_DB_V1_DIR)\n"
   ]
  },
  {
   "cell_type": "code",
   "execution_count": 25,
   "metadata": {},
   "outputs": [
    {
     "data": {
      "text/plain": [
       "(array([[1.3920091, 1.2818295, 1.2131524, 1.1747348, 1.157879 , 1.1481402,\n",
       "         1.1459833, 1.141677 , 1.1226684, 1.0984651]], dtype=float32),\n",
       " array([[ 19774, 106168,  19773,  70501,  21189,  57678,  15704,  52076,\n",
       "           2750,  97878]]))"
      ]
     },
     "execution_count": 25,
     "metadata": {},
     "output_type": "execute_result"
    }
   ],
   "source": [
    "rquery = np.random.rand(1, 768)\n",
    "n = len(rquery)\n",
    "distances = None\n",
    "labels = None\n",
    "index.search(rquery, 10)"
   ]
  },
  {
   "cell_type": "code",
   "execution_count": 26,
   "metadata": {},
   "outputs": [
    {
     "name": "stdout",
     "output_type": "stream",
     "text": [
      "Help on method replacement_search in module faiss.class_wrappers:\n",
      "\n",
      "replacement_search(x, k, *, params=None, D=None, I=None) method of faiss.swigfaiss.IndexFlatIP instance\n",
      "    Find the k nearest neighbors of the set of vectors x in the index.\n",
      "    \n",
      "    Parameters\n",
      "    ----------\n",
      "    x : array_like\n",
      "        Query vectors, shape (n, d) where d is appropriate for the index.\n",
      "        `dtype` must be float32.\n",
      "    k : int\n",
      "        Number of nearest neighbors.\n",
      "    params : SearchParameters\n",
      "        Search parameters of the current search (overrides the class-level params)\n",
      "    D : array_like, optional\n",
      "        Distance array to store the result.\n",
      "    I : array_like, optional\n",
      "        Labels array to store the results.\n",
      "    \n",
      "    Returns\n",
      "    -------\n",
      "    D : array_like\n",
      "        Distances of the nearest neighbors, shape (n, k). When not enough results are found\n",
      "        the label is set to +Inf or -Inf.\n",
      "    I : array_like\n",
      "        Labels of the nearest neighbors, shape (n, k).\n",
      "        When not enough results are found, the label is set to -1\n",
      "\n"
     ]
    }
   ],
   "source": [
    "faiss.IDSelector()"
   ]
  },
  {
   "cell_type": "code",
   "execution_count": 29,
   "metadata": {},
   "outputs": [
    {
     "name": "stdout",
     "output_type": "stream",
     "text": [
      "\u001b[0;31mSignature:\u001b[0m \u001b[0mfaiss\u001b[0m\u001b[0;34m.\u001b[0m\u001b[0mread_index\u001b[0m\u001b[0;34m(\u001b[0m\u001b[0;34m*\u001b[0m\u001b[0margs\u001b[0m\u001b[0;34m)\u001b[0m\u001b[0;34m\u001b[0m\u001b[0;34m\u001b[0m\u001b[0m\n",
      "\u001b[0;31mDocstring:\u001b[0m <no docstring>\n",
      "\u001b[0;31mFile:\u001b[0m      ~/opt/anaconda3/envs/qachatbot/lib/python3.11/site-packages/faiss/swigfaiss.py\n",
      "\u001b[0;31mType:\u001b[0m      function"
     ]
    }
   ],
   "source": [
    "?faiss.read_index"
   ]
  },
  {
   "cell_type": "code",
   "execution_count": 6,
   "metadata": {},
   "outputs": [
    {
     "data": {
      "text/plain": [
       "[1,\n",
       " 2,\n",
       " 3,\n",
       " 4,\n",
       " 5,\n",
       " 6,\n",
       " 7,\n",
       " 8,\n",
       " 9,\n",
       " 10,\n",
       " 20,\n",
       " 21,\n",
       " 22,\n",
       " 23,\n",
       " 24,\n",
       " 25,\n",
       " 26,\n",
       " 27,\n",
       " 28,\n",
       " 29,\n",
       " 30,\n",
       " 25,\n",
       " 26,\n",
       " 27,\n",
       " 28,\n",
       " 29,\n",
       " 30,\n",
       " 31,\n",
       " 32,\n",
       " 33,\n",
       " 34,\n",
       " 35]"
      ]
     },
     "execution_count": 6,
     "metadata": {},
     "output_type": "execute_result"
    }
   ],
   "source": [
    "a = [(1,10), (20, 30), (25, 35)]\n",
    "b = []\n",
    "for s,e in a:\n",
    "    b.extend(list(range(s,e+1)))\n",
    "b\n"
   ]
  },
  {
   "cell_type": "code",
   "execution_count": null,
   "metadata": {},
   "outputs": [],
   "source": []
  }
 ],
 "metadata": {
  "kernelspec": {
   "display_name": "hcm-ai",
   "language": "python",
   "name": "python3"
  },
  "language_info": {
   "codemirror_mode": {
    "name": "ipython",
    "version": 3
   },
   "file_extension": ".py",
   "mimetype": "text/x-python",
   "name": "python",
   "nbconvert_exporter": "python",
   "pygments_lexer": "ipython3",
   "version": "3.10.6"
  }
 },
 "nbformat": 4,
 "nbformat_minor": 2
}
