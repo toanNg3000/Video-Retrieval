{
 "cells": [
  {
   "cell_type": "markdown",
   "id": "33f47f41-9a87-483a-9104-c36f5e1a64cc",
   "metadata": {},
   "source": [
    "* RAM++ is the next generation of RAM, which can recognize any category with high accuracy, including both predefined common categories and diverse open-set categories.\n",
    "* RAM++ outperforms existing SOTA image fundamental recognition models on common tag categories, uncommon tag categories, and human-object interaction phrases.\n",
    "* repository: https://github.com/xinyu1205/recognize-anything\n",
    "* the implementation of tag encoding is inspired by this repository: https://github.com/AIVIETNAMResearch/VN_Multi_User_Video_Search"
   ]
  },
  {
   "cell_type": "code",
   "execution_count": 1,
   "id": "bff68996-8c1f-44ff-8732-2634553454d4",
   "metadata": {
    "tags": []
   },
   "outputs": [
    {
     "name": "stdout",
     "output_type": "stream",
     "text": [
      "fatal: destination path 'recognize-anything' already exists and is not an empty directory.\n",
      "/home/jupyter/Workspace/Amatos_hcm_ai/modules/ram_model/recognize-anything\n"
     ]
    },
    {
     "name": "stderr",
     "output_type": "stream",
     "text": [
      "/opt/conda/envs/amato/lib/python3.10/site-packages/IPython/core/magics/osm.py:417: UserWarning: This is now an optional IPython functionality, setting dhist requires you to install the `pickleshare` library.\n",
      "  self.shell.db['dhist'] = compress_dhist(dhist)[-100:]\n"
     ]
    }
   ],
   "source": [
    "!git clone https://github.com/xinyu1205/recognize-anything.git\n",
    "%cd recognize-anything"
   ]
  },
  {
   "cell_type": "code",
   "execution_count": 2,
   "id": "c8b29f42-e25c-4b46-bc9e-6314245a6d9a",
   "metadata": {
    "tags": []
   },
   "outputs": [
    {
     "name": "stderr",
     "output_type": "stream",
     "text": [
      "/opt/conda/envs/amato/lib/python3.10/site-packages/tqdm/auto.py:21: TqdmWarning: IProgress not found. Please update jupyter and ipywidgets. See https://ipywidgets.readthedocs.io/en/stable/user_install.html\n",
      "  from .autonotebook import tqdm as notebook_tqdm\n"
     ]
    }
   ],
   "source": [
    "import os\n",
    "import glob\n",
    "import json\n",
    "import torch\n",
    "import numpy as np\n",
    "from PIL import Image\n",
    "from ram.models import ram_plus\n",
    "from ram import get_transform\n",
    "from tqdm import tqdm"
   ]
  },
  {
   "cell_type": "code",
   "execution_count": 5,
   "id": "0f9cbbf7-988a-4851-8e1b-64ec1c8f86b3",
   "metadata": {},
   "outputs": [],
   "source": [
    "keyframes_dir = '../../../db/keyframes'"
   ]
  },
  {
   "cell_type": "code",
   "execution_count": 6,
   "id": "189e9ac9-300c-4ad2-ace5-4ad7d9cf2f23",
   "metadata": {
    "tags": []
   },
   "outputs": [],
   "source": [
    "# run data for first 2 videos\n",
    "# N_VIDEOS = 2\n",
    "\n",
    "keyframes_dir = '../../../db/keyframes'\n",
    "\n",
    "video_keyframe_paths = dict()\n",
    "\n",
    "# for video_id in sorted(os.listdir(keyframes_dir))[:N_VIDEOS]:\n",
    "for video_id in sorted(os.listdir(keyframes_dir)):\n",
    "\n",
    "    # print(video_id)\n",
    "    \n",
    "    keyframe_paths = sorted(glob.glob(f'{keyframes_dir}/{video_id}/*.jpg'))\n",
    "    \n",
    "    # print(keyframe_paths[:5])\n",
    "    \n",
    "    video_keyframe_paths[video_id] = keyframe_paths\n",
    "\n"
   ]
  },
  {
   "cell_type": "code",
   "execution_count": 7,
   "id": "ee62a691-f39b-4563-ac53-77a7eff8dc13",
   "metadata": {
    "tags": []
   },
   "outputs": [
    {
     "data": {
      "text/plain": [
       "dict_keys(['L01_V001', 'L01_V002', 'L01_V003', 'L01_V004', 'L01_V005', 'L01_V006', 'L01_V007', 'L01_V008', 'L01_V009', 'L01_V010', 'L01_V011', 'L01_V012', 'L01_V013', 'L01_V014', 'L01_V015', 'L01_V016', 'L01_V017', 'L01_V018', 'L01_V019', 'L01_V020', 'L01_V021', 'L01_V022', 'L01_V023', 'L01_V024', 'L01_V025', 'L01_V026', 'L01_V027', 'L01_V028', 'L01_V029', 'L01_V030', 'L01_V031', 'L02_V001', 'L02_V002', 'L02_V003', 'L02_V004', 'L02_V005', 'L02_V006', 'L02_V007', 'L02_V008', 'L02_V009', 'L02_V010', 'L02_V011', 'L02_V012', 'L02_V013', 'L02_V014', 'L02_V015', 'L02_V016', 'L02_V017', 'L02_V018', 'L02_V019', 'L02_V020', 'L02_V021', 'L02_V022', 'L02_V023', 'L02_V024', 'L02_V025', 'L02_V026', 'L02_V027', 'L02_V028', 'L02_V029', 'L02_V030', 'L02_V031', 'L03_V001', 'L03_V002', 'L03_V003', 'L03_V004', 'L03_V005', 'L03_V006', 'L03_V007', 'L03_V008', 'L03_V009', 'L03_V010', 'L03_V011', 'L03_V012', 'L03_V013', 'L03_V014', 'L03_V015', 'L03_V016', 'L03_V017', 'L03_V018', 'L03_V019', 'L03_V020', 'L03_V021', 'L03_V022', 'L03_V023', 'L03_V024', 'L03_V025', 'L03_V026', 'L03_V027', 'L03_V028', 'L03_V029', 'L03_V030', 'L04_V001', 'L04_V002', 'L04_V003', 'L04_V004', 'L04_V005', 'L04_V006', 'L04_V007', 'L04_V008', 'L04_V009', 'L04_V010', 'L04_V011', 'L04_V012', 'L04_V013', 'L04_V014', 'L04_V015', 'L04_V016', 'L04_V017', 'L04_V018', 'L04_V019', 'L04_V020', 'L04_V021', 'L04_V022', 'L04_V023', 'L04_V024', 'L04_V025', 'L04_V026', 'L04_V027', 'L04_V028', 'L04_V029', 'L04_V030', 'L05_V001', 'L05_V002', 'L05_V003', 'L05_V004', 'L05_V005', 'L05_V006', 'L05_V007', 'L05_V008', 'L05_V009', 'L05_V010', 'L05_V011', 'L05_V012', 'L05_V013', 'L05_V014', 'L05_V015', 'L05_V016', 'L05_V017', 'L05_V018', 'L05_V019', 'L05_V020', 'L05_V021', 'L05_V022', 'L05_V023', 'L05_V024', 'L05_V025', 'L05_V026', 'L05_V027', 'L05_V028', 'L05_V029', 'L05_V030', 'L05_V031', 'L06_V001', 'L06_V002', 'L06_V003', 'L06_V004', 'L06_V005', 'L06_V006', 'L06_V007', 'L06_V008', 'L06_V009', 'L06_V010', 'L06_V011', 'L06_V012', 'L06_V013', 'L06_V014', 'L06_V015', 'L06_V016', 'L06_V017', 'L06_V018', 'L06_V019', 'L06_V020', 'L06_V021', 'L06_V022', 'L06_V023', 'L06_V024', 'L06_V025', 'L06_V026', 'L06_V027', 'L06_V028', 'L06_V029', 'L06_V030', 'L06_V031', 'L07_V001', 'L07_V002', 'L07_V003', 'L07_V004', 'L07_V005', 'L07_V006', 'L07_V007', 'L07_V008', 'L07_V009', 'L07_V010', 'L07_V011', 'L07_V012', 'L07_V013', 'L07_V014', 'L07_V015', 'L07_V016', 'L07_V017', 'L07_V018', 'L07_V019', 'L07_V020', 'L07_V021', 'L07_V022', 'L07_V023', 'L07_V024', 'L07_V025', 'L07_V026', 'L07_V027', 'L07_V028', 'L07_V029', 'L07_V030', 'L07_V031', 'L08_V001', 'L08_V002', 'L08_V003', 'L08_V004', 'L08_V005', 'L08_V006', 'L08_V007', 'L08_V008', 'L08_V009', 'L08_V010', 'L08_V011', 'L08_V012', 'L08_V013', 'L08_V014', 'L08_V015', 'L08_V016', 'L08_V017', 'L08_V018', 'L08_V019', 'L08_V020', 'L08_V021', 'L08_V022', 'L08_V023', 'L08_V024', 'L08_V025', 'L08_V026', 'L08_V027', 'L08_V028', 'L08_V029', 'L08_V030', 'L09_V001', 'L09_V002', 'L09_V003', 'L09_V004', 'L09_V005', 'L09_V006', 'L09_V007', 'L09_V008', 'L09_V009', 'L09_V010', 'L09_V011', 'L09_V012', 'L09_V013', 'L09_V014', 'L09_V015', 'L09_V016', 'L09_V017', 'L09_V018', 'L09_V019', 'L09_V020', 'L09_V021', 'L09_V022', 'L09_V023', 'L09_V024', 'L09_V025', 'L09_V026', 'L09_V027', 'L09_V028', 'L09_V029', 'L10_V001', 'L10_V002', 'L10_V003', 'L10_V004', 'L10_V005', 'L10_V006', 'L10_V007', 'L10_V008', 'L10_V009', 'L10_V010', 'L10_V011', 'L10_V012', 'L10_V013', 'L10_V014', 'L10_V015', 'L10_V016', 'L10_V017', 'L10_V018', 'L10_V019', 'L10_V020', 'L10_V021', 'L10_V022', 'L10_V023', 'L10_V024', 'L10_V025', 'L10_V026', 'L10_V027', 'L10_V028', 'L10_V029', 'L11_V001', 'L11_V002', 'L11_V003', 'L11_V004', 'L11_V005', 'L11_V006', 'L11_V007', 'L11_V008', 'L11_V009', 'L11_V010', 'L11_V011', 'L11_V012', 'L11_V013', 'L11_V014', 'L11_V015', 'L11_V016', 'L11_V017', 'L11_V018', 'L11_V019', 'L11_V020', 'L11_V021', 'L11_V022', 'L11_V023', 'L11_V024', 'L11_V025', 'L11_V026', 'L11_V027', 'L11_V028', 'L11_V029', 'L11_V030', 'L12_V001', 'L12_V002', 'L12_V003', 'L12_V004', 'L12_V005', 'L12_V006', 'L12_V007', 'L12_V008', 'L12_V009', 'L12_V010', 'L12_V011', 'L12_V012', 'L12_V013', 'L12_V014', 'L12_V015', 'L12_V016', 'L12_V017', 'L12_V018', 'L12_V019', 'L12_V020', 'L12_V021', 'L12_V022', 'L12_V023', 'L12_V024', 'L12_V025', 'L12_V026', 'L12_V027', 'L12_V028', 'L12_V029', 'L12_V030', 'L13_V001', 'L13_V002', 'L13_V003', 'L13_V004', 'L13_V005', 'L13_V006', 'L13_V007', 'L13_V008', 'L13_V009', 'L13_V010', 'L13_V011', 'L13_V012', 'L13_V013', 'L13_V014', 'L13_V015', 'L13_V016', 'L13_V017', 'L13_V018', 'L13_V019', 'L13_V020', 'L13_V021', 'L13_V022', 'L13_V023', 'L13_V024', 'L13_V025', 'L13_V026', 'L13_V027', 'L13_V028', 'L13_V029', 'L13_V030', 'L14_V001', 'L14_V002', 'L14_V003', 'L14_V004', 'L14_V005', 'L14_V006', 'L14_V007', 'L14_V008', 'L14_V009', 'L14_V011', 'L14_V012', 'L14_V013', 'L14_V014', 'L14_V015', 'L14_V016', 'L14_V017', 'L14_V018', 'L14_V019', 'L14_V020', 'L14_V021', 'L14_V022', 'L14_V023', 'L14_V024', 'L14_V025', 'L14_V026', 'L14_V027', 'L14_V028', 'L15_V001', 'L15_V002', 'L15_V003', 'L15_V004', 'L15_V005', 'L15_V006', 'L15_V007', 'L15_V008', 'L15_V009', 'L15_V010', 'L15_V011', 'L15_V012', 'L15_V013', 'L15_V014', 'L15_V015', 'L15_V016', 'L15_V017', 'L15_V018', 'L15_V019', 'L15_V020', 'L15_V021', 'L15_V022', 'L15_V023', 'L15_V024', 'L15_V025', 'L15_V026', 'L15_V027', 'L15_V028', 'L15_V029', 'L15_V030', 'L15_V031', 'L16_V001', 'L16_V002', 'L16_V003', 'L16_V004', 'L16_V005', 'L16_V006', 'L16_V007', 'L16_V008', 'L16_V009', 'L16_V010', 'L16_V011', 'L16_V012', 'L16_V013', 'L16_V014', 'L16_V015', 'L16_V016', 'L16_V017', 'L16_V018', 'L16_V019', 'L16_V020', 'L16_V021', 'L16_V022', 'L16_V023', 'L16_V024', 'L16_V025', 'L16_V026', 'L16_V027', 'L16_V028', 'L16_V029', 'L16_V030', 'L16_V031', 'L17_V001', 'L17_V002', 'L17_V003', 'L17_V004', 'L17_V005', 'L17_V006', 'L17_V007', 'L17_V009', 'L17_V010', 'L17_V011', 'L17_V012', 'L17_V013', 'L17_V014', 'L17_V015', 'L17_V016', 'L17_V017', 'L17_V018', 'L17_V019', 'L17_V020', 'L17_V021', 'L17_V022', 'L17_V023', 'L17_V024', 'L17_V025', 'L17_V026', 'L17_V027', 'L17_V028', 'L17_V029', 'L18_V001', 'L18_V002', 'L18_V003', 'L18_V004', 'L18_V005', 'L18_V006', 'L18_V007', 'L18_V008', 'L18_V009', 'L18_V010', 'L18_V011', 'L18_V012', 'L18_V013', 'L18_V014', 'L18_V015', 'L18_V016', 'L18_V017', 'L18_V018', 'L18_V019', 'L18_V020', 'L18_V021', 'L18_V022', 'L18_V023', 'L18_V024', 'L18_V025', 'L18_V026', 'L18_V027', 'L18_V028', 'L18_V029', 'L19_V001', 'L19_V003', 'L19_V004', 'L19_V005', 'L19_V006', 'L19_V007', 'L19_V008', 'L19_V009', 'L19_V010', 'L19_V011', 'L19_V012', 'L19_V013', 'L19_V014', 'L19_V015', 'L19_V016', 'L19_V017', 'L19_V018', 'L19_V019', 'L19_V020', 'L19_V021', 'L19_V022', 'L19_V023', 'L19_V024', 'L19_V025', 'L19_V026', 'L19_V027', 'L19_V028', 'L19_V029', 'L19_V030', 'L19_V031', 'L20_V001', 'L20_V002', 'L20_V003', 'L20_V004', 'L20_V005', 'L20_V006', 'L20_V007', 'L20_V008', 'L20_V009', 'L20_V010', 'L20_V011', 'L20_V012', 'L20_V013', 'L20_V014', 'L20_V015', 'L20_V016', 'L20_V017', 'L20_V018', 'L20_V019', 'L20_V020', 'L20_V021', 'L20_V022', 'L20_V024', 'L20_V025', 'L20_V027', 'L20_V028', 'L20_V029', 'L20_V030', 'L20_V031', 'L21_V001', 'L21_V002', 'L21_V003', 'L21_V005', 'L21_V006', 'L21_V007', 'L21_V008', 'L21_V009', 'L21_V010', 'L21_V011', 'L21_V012', 'L21_V013', 'L21_V014', 'L21_V015', 'L21_V016', 'L21_V017', 'L21_V018', 'L21_V019', 'L21_V021', 'L21_V022', 'L21_V023', 'L21_V024', 'L21_V025', 'L21_V026', 'L21_V027', 'L21_V028', 'L21_V029', 'L21_V030', 'L21_V031', 'L22_V001', 'L22_V002', 'L22_V003', 'L22_V004', 'L22_V005', 'L22_V006', 'L22_V007', 'L22_V008', 'L22_V009', 'L22_V010', 'L22_V011', 'L22_V012', 'L22_V013', 'L22_V014', 'L22_V015', 'L22_V016', 'L22_V017', 'L22_V018', 'L22_V019', 'L22_V020', 'L22_V021', 'L22_V022', 'L22_V023', 'L22_V024', 'L22_V025', 'L22_V026', 'L22_V027', 'L22_V028', 'L22_V029', 'L22_V030', 'L22_V031', 'L23_V001', 'L23_V002', 'L23_V003', 'L23_V004', 'L23_V005', 'L23_V006', 'L23_V007', 'L23_V008', 'L23_V009', 'L23_V010', 'L23_V011', 'L23_V012', 'L23_V013', 'L23_V014', 'L23_V015', 'L23_V016', 'L23_V017', 'L23_V018', 'L23_V019', 'L23_V020', 'L23_V021', 'L23_V022', 'L23_V023', 'L23_V024', 'L23_V025', 'L24_V002', 'L24_V003', 'L24_V004', 'L24_V005', 'L24_V006', 'L24_V007', 'L24_V008', 'L24_V009', 'L24_V010', 'L24_V011', 'L24_V012', 'L24_V013', 'L24_V014', 'L24_V015', 'L24_V016', 'L24_V017', 'L24_V018', 'L24_V019', 'L24_V020', 'L24_V021', 'L24_V022', 'L24_V023', 'L24_V024', 'L24_V025', 'L24_V026', 'L24_V027', 'L24_V028', 'L24_V029', 'L24_V030', 'L24_V031', 'L24_V032', 'L24_V033', 'L24_V035', 'L24_V036', 'L24_V037', 'L24_V038', 'L24_V039', 'L24_V040', 'L24_V041', 'L24_V042', 'L24_V043', 'L24_V044', 'L24_V045', 'L25_V001', 'L25_V002', 'L25_V003', 'L25_V004', 'L25_V005', 'L25_V006', 'L25_V007', 'L25_V008', 'L25_V009', 'L25_V010', 'L25_V011', 'L25_V012', 'L25_V013', 'L25_V014', 'L25_V015', 'L25_V016', 'L25_V017', 'L25_V018', 'L25_V019', 'L25_V020', 'L25_V021', 'L25_V022', 'L25_V023', 'L25_V024', 'L25_V025', 'L25_V026', 'L25_V027', 'L25_V028', 'L25_V029', 'L25_V030', 'L25_V031', 'L25_V032', 'L25_V033', 'L25_V034', 'L25_V035', 'L25_V036', 'L25_V037', 'L25_V038', 'L25_V039', 'L25_V040', 'L25_V041', 'L25_V042', 'L25_V043', 'L25_V044', 'L25_V045', 'L25_V046', 'L25_V047', 'L25_V048', 'L25_V049', 'L25_V050', 'L25_V051', 'L25_V052', 'L25_V053', 'L25_V054', 'L25_V055', 'L25_V056', 'L25_V057', 'L25_V058', 'L25_V059', 'L25_V060', 'L25_V061', 'L25_V062', 'L25_V063', 'L25_V064', 'L25_V065', 'L25_V066', 'L25_V067', 'L25_V068', 'L25_V069', 'L25_V070', 'L25_V071', 'L25_V072', 'L25_V073', 'L25_V074', 'L25_V075', 'L25_V076', 'L25_V077', 'L25_V078', 'L25_V079', 'L25_V080', 'L25_V081', 'L25_V082', 'L25_V083', 'L25_V084', 'L25_V085', 'L25_V086', 'L25_V087', 'L25_V088', 'L26_V001', 'L26_V002', 'L26_V003', 'L26_V004', 'L26_V005', 'L26_V006', 'L26_V007', 'L26_V008', 'L26_V009', 'L26_V010', 'L26_V011', 'L26_V012', 'L26_V013', 'L26_V014', 'L26_V015', 'L26_V016', 'L26_V017', 'L26_V018', 'L26_V019', 'L26_V020', 'L26_V021', 'L26_V022', 'L26_V023', 'L26_V024', 'L26_V025', 'L26_V026', 'L26_V027', 'L26_V028', 'L26_V029', 'L26_V030', 'L26_V031', 'L26_V032', 'L26_V033', 'L26_V034', 'L26_V035', 'L26_V036', 'L26_V037', 'L26_V038', 'L26_V039', 'L26_V040', 'L26_V041', 'L26_V042', 'L26_V043', 'L26_V044', 'L26_V045', 'L26_V046', 'L26_V047', 'L26_V048', 'L26_V049', 'L26_V050', 'L26_V051', 'L26_V052', 'L26_V053', 'L26_V054', 'L26_V055', 'L26_V056', 'L26_V057', 'L26_V058', 'L26_V059', 'L26_V060', 'L26_V061', 'L26_V062', 'L26_V063', 'L26_V064', 'L26_V065', 'L26_V066', 'L26_V067', 'L26_V068', 'L26_V069', 'L26_V070', 'L26_V071', 'L26_V072', 'L26_V073', 'L26_V074', 'L26_V075', 'L26_V076', 'L26_V077', 'L26_V078', 'L26_V079', 'L26_V080', 'L26_V081', 'L26_V082', 'L26_V083', 'L26_V084', 'L26_V085', 'L26_V086', 'L26_V087', 'L26_V088', 'L26_V089', 'L26_V090', 'L26_V091', 'L26_V092', 'L26_V093', 'L26_V094', 'L26_V095', 'L26_V096', 'L26_V097', 'L26_V098', 'L26_V099', 'L26_V100', 'L26_V101', 'L26_V102', 'L26_V103', 'L26_V104', 'L26_V105', 'L26_V106', 'L26_V107', 'L26_V108', 'L26_V109', 'L26_V110', 'L26_V111', 'L26_V112', 'L26_V113', 'L26_V114', 'L26_V115', 'L26_V116', 'L26_V117', 'L26_V118', 'L26_V119', 'L26_V120', 'L26_V121', 'L26_V122', 'L26_V123', 'L26_V124', 'L26_V125', 'L26_V126', 'L26_V127', 'L26_V128', 'L26_V129', 'L26_V130', 'L26_V131', 'L26_V132', 'L26_V133', 'L26_V134', 'L26_V135', 'L26_V136', 'L26_V137', 'L26_V138', 'L26_V139', 'L26_V140', 'L26_V141', 'L26_V142', 'L26_V143', 'L26_V144', 'L26_V145', 'L26_V146', 'L26_V147', 'L26_V148', 'L26_V149', 'L26_V150', 'L26_V151', 'L26_V152', 'L26_V153', 'L26_V154', 'L26_V155', 'L26_V156', 'L26_V157', 'L26_V158', 'L26_V159', 'L26_V160', 'L26_V161', 'L26_V162', 'L26_V163', 'L26_V164', 'L26_V165', 'L26_V166', 'L26_V167', 'L26_V168', 'L26_V169', 'L26_V170', 'L26_V171', 'L26_V172', 'L26_V173', 'L26_V174', 'L26_V175', 'L26_V176', 'L26_V177', 'L26_V178', 'L26_V179', 'L26_V180', 'L26_V181', 'L26_V182', 'L26_V183', 'L26_V184', 'L26_V185', 'L26_V186', 'L26_V187', 'L26_V188', 'L26_V189', 'L26_V190', 'L26_V191', 'L26_V192', 'L26_V193', 'L26_V194', 'L26_V195', 'L26_V196', 'L26_V197', 'L26_V198', 'L26_V199', 'L26_V200', 'L26_V201', 'L26_V202', 'L26_V203', 'L26_V204', 'L26_V205', 'L26_V206', 'L26_V207', 'L26_V208', 'L26_V209', 'L26_V210', 'L26_V211', 'L26_V212', 'L26_V213', 'L26_V214', 'L26_V215', 'L26_V216', 'L26_V217', 'L26_V218', 'L26_V219', 'L26_V220', 'L26_V221', 'L26_V222', 'L26_V223', 'L26_V224', 'L26_V225', 'L26_V226', 'L26_V227', 'L26_V228', 'L26_V229', 'L26_V230', 'L26_V231', 'L26_V232', 'L26_V233', 'L26_V234', 'L26_V235', 'L26_V236', 'L26_V237', 'L26_V238', 'L26_V239', 'L26_V240', 'L26_V241', 'L26_V242', 'L26_V243', 'L26_V244', 'L26_V245', 'L26_V246', 'L26_V247', 'L26_V248', 'L26_V249', 'L26_V250', 'L26_V251', 'L26_V252', 'L26_V253', 'L26_V254', 'L26_V255', 'L26_V256', 'L26_V257', 'L26_V258', 'L26_V259', 'L26_V260', 'L26_V261', 'L26_V262', 'L26_V263', 'L26_V264', 'L26_V265', 'L26_V266', 'L26_V267', 'L26_V268', 'L26_V269', 'L26_V270', 'L26_V271', 'L26_V272', 'L26_V273', 'L26_V274', 'L26_V275', 'L26_V276', 'L26_V277', 'L26_V278', 'L26_V279', 'L26_V280', 'L26_V281', 'L26_V282', 'L26_V283', 'L26_V284', 'L26_V285', 'L26_V286', 'L26_V287', 'L26_V288', 'L26_V289', 'L26_V290', 'L26_V291', 'L26_V292', 'L26_V293', 'L26_V294', 'L26_V295', 'L26_V296', 'L26_V297', 'L26_V298', 'L26_V299', 'L26_V300', 'L26_V301', 'L26_V302', 'L26_V303', 'L26_V304', 'L26_V305', 'L26_V306', 'L26_V307', 'L26_V308', 'L26_V309', 'L26_V310', 'L26_V311', 'L26_V312', 'L26_V313', 'L26_V314', 'L26_V315', 'L26_V316', 'L26_V317', 'L26_V318', 'L26_V319', 'L26_V320', 'L26_V321', 'L26_V322', 'L26_V323', 'L26_V324', 'L26_V325', 'L26_V326', 'L26_V327', 'L26_V328', 'L26_V329', 'L26_V330', 'L26_V331', 'L26_V332', 'L26_V333', 'L26_V334', 'L26_V335', 'L26_V336', 'L26_V337', 'L26_V338', 'L26_V339', 'L26_V340', 'L26_V341', 'L26_V342', 'L26_V343', 'L26_V344', 'L26_V345', 'L26_V346', 'L26_V347', 'L26_V348', 'L26_V349', 'L26_V350', 'L26_V351', 'L26_V352', 'L26_V353', 'L26_V354', 'L26_V355', 'L26_V356', 'L26_V357', 'L26_V358', 'L26_V359', 'L26_V360', 'L26_V361', 'L26_V362', 'L26_V363', 'L26_V364', 'L26_V365', 'L26_V366', 'L26_V367', 'L26_V368', 'L26_V369', 'L26_V370', 'L26_V371', 'L26_V372', 'L26_V373', 'L26_V374', 'L26_V375', 'L26_V376', 'L26_V377', 'L26_V378', 'L26_V379', 'L26_V380', 'L26_V381', 'L26_V382', 'L26_V383', 'L26_V384', 'L26_V385', 'L26_V386', 'L26_V387', 'L26_V388', 'L26_V389', 'L26_V390', 'L26_V391', 'L26_V392', 'L26_V393', 'L26_V394', 'L26_V395', 'L26_V396', 'L26_V397', 'L26_V398', 'L26_V399', 'L26_V400', 'L26_V401', 'L26_V402', 'L26_V403', 'L26_V404', 'L26_V405', 'L26_V406', 'L26_V407', 'L26_V408', 'L26_V409', 'L26_V410', 'L26_V411', 'L26_V412', 'L26_V413', 'L26_V414', 'L26_V415', 'L26_V416', 'L26_V418', 'L26_V419', 'L26_V420', 'L26_V421', 'L26_V422', 'L26_V423', 'L26_V424', 'L26_V425', 'L26_V426', 'L26_V427', 'L26_V428', 'L26_V429', 'L26_V430', 'L26_V431', 'L26_V432', 'L26_V433', 'L26_V434', 'L26_V435', 'L26_V436', 'L26_V437', 'L26_V438', 'L26_V439', 'L26_V440', 'L26_V441', 'L26_V442', 'L26_V443', 'L26_V444', 'L26_V445', 'L26_V446', 'L26_V447', 'L26_V448', 'L26_V449', 'L26_V450', 'L26_V451', 'L26_V452', 'L26_V453', 'L26_V454', 'L26_V455', 'L26_V456', 'L26_V457', 'L26_V458', 'L26_V459', 'L26_V460', 'L26_V461', 'L26_V462', 'L26_V463', 'L26_V464', 'L26_V465', 'L26_V466', 'L26_V467', 'L26_V468', 'L26_V469', 'L26_V470', 'L26_V471', 'L26_V472', 'L26_V473', 'L26_V474', 'L26_V475', 'L26_V476', 'L26_V477', 'L26_V478', 'L26_V479', 'L26_V480', 'L26_V481', 'L26_V482', 'L26_V483', 'L26_V484', 'L26_V485', 'L26_V486', 'L26_V487', 'L26_V488', 'L26_V489', 'L26_V490', 'L26_V491', 'L26_V492', 'L26_V493', 'L26_V494', 'L26_V495', 'L26_V496', 'L26_V497', 'L26_V498', 'L26_V499', 'L27_V001', 'L27_V002', 'L27_V003', 'L27_V004', 'L27_V005', 'L27_V006', 'L27_V007', 'L27_V008', 'L27_V009', 'L27_V010', 'L27_V011', 'L27_V012', 'L27_V013', 'L27_V014', 'L27_V015', 'L27_V016', 'L28_V001', 'L28_V002', 'L28_V003', 'L28_V004', 'L28_V005', 'L28_V006', 'L28_V007', 'L28_V008', 'L28_V009', 'L28_V010', 'L28_V011', 'L28_V012', 'L28_V013', 'L28_V014', 'L28_V015', 'L28_V016', 'L28_V017', 'L28_V018', 'L28_V019', 'L28_V020', 'L28_V021', 'L28_V022', 'L28_V023', 'L28_V024', 'L29_V001', 'L29_V002', 'L29_V003', 'L29_V004', 'L29_V005', 'L29_V006', 'L29_V007', 'L29_V008', 'L29_V009', 'L29_V010', 'L29_V011', 'L29_V012', 'L29_V013', 'L29_V014', 'L29_V015', 'L29_V016', 'L29_V017', 'L29_V018', 'L29_V019', 'L29_V020', 'L29_V021', 'L29_V022', 'L29_V023', 'L30_V001', 'L30_V002', 'L30_V003', 'L30_V004', 'L30_V005', 'L30_V006', 'L30_V007', 'L30_V008', 'L30_V009', 'L30_V010', 'L30_V011', 'L30_V012', 'L30_V013', 'L30_V014', 'L30_V015', 'L30_V016', 'L30_V017', 'L30_V018', 'L30_V019', 'L30_V020', 'L30_V021', 'L30_V022', 'L30_V023', 'L30_V024', 'L30_V025', 'L30_V026', 'L30_V027', 'L30_V028', 'L30_V029', 'L30_V030', 'L30_V031', 'L30_V032', 'L30_V033', 'L30_V034', 'L30_V035', 'L30_V036', 'L30_V037', 'L30_V038', 'L30_V039', 'L30_V040', 'L30_V041', 'L30_V042', 'L30_V043', 'L30_V044', 'L30_V045', 'L30_V046', 'L30_V047', 'L30_V048', 'L30_V049', 'L30_V050', 'L30_V051', 'L30_V052', 'L30_V053', 'L30_V054', 'L30_V055', 'L30_V056', 'L30_V057', 'L30_V058', 'L30_V059', 'L30_V060', 'L30_V061', 'L30_V062', 'L30_V063', 'L30_V064', 'L30_V065', 'L30_V066', 'L30_V067', 'L30_V068', 'L30_V069', 'L30_V070', 'L30_V071', 'L30_V072', 'L30_V073', 'L30_V074', 'L30_V075', 'L30_V076', 'L30_V077', 'L30_V078', 'L30_V079', 'L30_V080', 'L30_V081', 'L30_V082', 'L30_V083', 'L30_V084', 'L30_V085', 'L30_V086', 'L30_V087', 'L30_V088', 'L30_V089', 'L30_V090', 'L30_V091', 'L30_V092', 'L30_V093', 'L30_V094', 'L30_V095', 'L30_V096'])"
      ]
     },
     "execution_count": 7,
     "metadata": {},
     "output_type": "execute_result"
    }
   ],
   "source": [
    "video_keyframe_paths.keys()"
   ]
  },
  {
   "cell_type": "markdown",
   "id": "0d516215-8e53-493e-9a0d-6f12b6a1a087",
   "metadata": {},
   "source": [
    "# Download checkpoint"
   ]
  },
  {
   "cell_type": "code",
   "execution_count": 8,
   "id": "7f3c5d37-3b5b-478b-af4c-6658a0d6cb76",
   "metadata": {
    "tags": []
   },
   "outputs": [
    {
     "name": "stdout",
     "output_type": "stream",
     "text": [
      "RAM plus weights already downloaded!\n",
      "ram_plus weights are downloaded!\n"
     ]
    }
   ],
   "source": [
    "def download_checkpoints(model):\n",
    "\n",
    "    if not os.path.exists('pretrained'):\n",
    "        os.makedirs('pretrained')\n",
    "\n",
    "    if model == \"ram_plus\":\n",
    "        ram_plus_weights_path = 'pretrained/ram_plus_swin_large_14m.pth'\n",
    "        if not os.path.exists(ram_plus_weights_path):\n",
    "            !wget https://huggingface.co/xinyu1205/recognize-anything-plus-model/resolve/main/ram_plus_swin_large_14m.pth -O pretrained/ram_plus_swin_large_14m.pth\n",
    "        else:\n",
    "            print(\"RAM plus weights already downloaded!\")\n",
    "\n",
    "model = \"ram_plus\"\n",
    "download_checkpoints(model)\n",
    "print(model, 'weights are downloaded!')"
   ]
  },
  {
   "cell_type": "markdown",
   "id": "47525de9-d65f-4abb-885f-4ced432daf54",
   "metadata": {},
   "source": [
    "# Helper Functions"
   ]
  },
  {
   "cell_type": "code",
   "execution_count": null,
   "id": "bb70320b-a9ed-443a-80d0-1de5f3486454",
   "metadata": {
    "tags": []
   },
   "outputs": [],
   "source": []
  },
  {
   "cell_type": "code",
   "execution_count": 9,
   "id": "496f2914-59e6-4cf4-a679-7af1d0269b94",
   "metadata": {},
   "outputs": [],
   "source": [
    "device = \"cuda\" if torch.cuda.is_available() else \"cpu\"\n",
    "\n",
    "@torch.no_grad()\n",
    "def forward_ram(model, imgs):\n",
    "    image_embeds = model.image_proj(model.visual_encoder(imgs))\n",
    "    image_atts = torch.ones(image_embeds.size()[:-1],\n",
    "                            dtype=torch.long).to(imgs.device)\n",
    "\n",
    "    image_cls_embeds = image_embeds[:, 0, :]\n",
    "\n",
    "    bs = imgs.shape[0]\n",
    "\n",
    "    des_per_class = int(model.label_embed.shape[0] / model.num_class)\n",
    "\n",
    "    image_cls_embeds = image_cls_embeds / image_cls_embeds.norm(dim=-1, keepdim=True)\n",
    "    reweight_scale = model.reweight_scale.exp()\n",
    "    logits_per_image = (reweight_scale * image_cls_embeds @ model.label_embed.t())\n",
    "    logits_per_image = logits_per_image.view(bs, -1,des_per_class)\n",
    "\n",
    "    weight_normalized = torch.nn.functional.softmax(logits_per_image, dim=2)\n",
    "    label_embed_reweight = torch.empty(bs, model.num_class, 512).to(imgs.device).to(imgs.dtype)\n",
    "\n",
    "    for i in range(bs):\n",
    "        reshaped_value = model.label_embed.view(-1, des_per_class, 512)\n",
    "        product = weight_normalized[i].unsqueeze(-1) * reshaped_value\n",
    "        label_embed_reweight[i] = product.sum(dim=1)\n",
    "\n",
    "    label_embed = torch.nn.functional.relu(model.wordvec_proj(label_embed_reweight))\n",
    "\n",
    "    # recognized image tags using alignment decoder\n",
    "    tagging_embed = model.tagging_head(\n",
    "        encoder_embeds=label_embed,\n",
    "        encoder_hidden_states=image_embeds,\n",
    "        encoder_attention_mask=image_atts,\n",
    "        return_dict=False,\n",
    "        mode='tagging',\n",
    "    )\n",
    "\n",
    "    logits = model.fc(tagging_embed[0]).squeeze(-1)\n",
    "\n",
    "    targets = torch.where(\n",
    "        torch.sigmoid(logits) > model.class_threshold.to(device),\n",
    "        torch.tensor(1.0).to(device),\n",
    "        torch.zeros(model.num_class).to(device))\n",
    "\n",
    "    tag = targets.cpu().numpy()\n",
    "    tag[:,model.delete_tag_index] = 0\n",
    "    \n",
    "    tag_outputs = []\n",
    "    tag_logits = []\n",
    "\n",
    "    for b in range(bs):\n",
    "        index = np.argwhere(tag[b] == 1)\n",
    "        tokens = model.tag_list[index].squeeze(axis=1)\n",
    "        tag_outputs.append([token.replace(\" \", \"_\") for token in tokens])\n",
    "        scores = logits[b][index[:, 0]]\n",
    "        tag_logits.append(scores.cpu().numpy())\n",
    "\n",
    "\n",
    "    return tag_outputs, tag_logits"
   ]
  },
  {
   "cell_type": "markdown",
   "id": "ef1af186-cb65-424d-abe2-b3d5bb7a7924",
   "metadata": {},
   "source": [
    "# Run inference"
   ]
  },
  {
   "cell_type": "code",
   "execution_count": 10,
   "id": "f732c4b6-befa-4c1d-a088-92bb35492f9e",
   "metadata": {
    "tags": []
   },
   "outputs": [
    {
     "name": "stdout",
     "output_type": "stream",
     "text": [
      "--------------\n",
      "pretrained/ram_plus_swin_large_14m.pth\n",
      "--------------\n",
      "load checkpoint from pretrained/ram_plus_swin_large_14m.pth\n",
      "vit: swin_l\n"
     ]
    }
   ],
   "source": [
    "transform = get_transform(image_size=384)\n",
    "model = ram_plus(pretrained='pretrained/ram_plus_swin_large_14m.pth',\n",
    "            image_size=384,\n",
    "            vit='swin_l')\n",
    "model.eval()\n",
    "model = model.to(device)\n",
    "tag_list = model.tag_list"
   ]
  },
  {
   "cell_type": "code",
   "execution_count": 22,
   "id": "b0d78894-84a9-49eb-8410-a62725794ce8",
   "metadata": {
    "tags": []
   },
   "outputs": [],
   "source": [
    "# del model"
   ]
  },
  {
   "cell_type": "code",
   "execution_count": 11,
   "id": "6d245826-37c2-4c5f-9c25-a08fe6ac7e3d",
   "metadata": {
    "tags": []
   },
   "outputs": [
    {
     "data": {
      "text/plain": [
       "array(['3D CG rendering', '3D glasses', 'abacus', ..., 'zombie', 'zongzi',\n",
       "       'zoo'], dtype='<U27')"
      ]
     },
     "execution_count": 11,
     "metadata": {},
     "output_type": "execute_result"
    }
   ],
   "source": [
    "tag_list"
   ]
  },
  {
   "cell_type": "code",
   "execution_count": 12,
   "id": "2f7653ea-f2aa-464e-b09d-7e7b744a8f3b",
   "metadata": {
    "tags": []
   },
   "outputs": [],
   "source": [
    "output_tag_list = [tag.replace(\" \", \"_\").lower() for tag in tag_list.tolist()]"
   ]
  },
  {
   "cell_type": "code",
   "execution_count": 13,
   "id": "00bfa61a-fb24-4064-b055-233fc76b05a1",
   "metadata": {
    "tags": []
   },
   "outputs": [
    {
     "data": {
      "text/plain": [
       "['3d_cg_rendering', '3d_glasses', 'abacus', 'abalone', 'monastery']"
      ]
     },
     "execution_count": 13,
     "metadata": {},
     "output_type": "execute_result"
    }
   ],
   "source": [
    "output_tag_list[:5]"
   ]
  },
  {
   "cell_type": "markdown",
   "id": "998f7caf-8fe6-4598-9e48-a6caf312169d",
   "metadata": {},
   "source": [
    "# Save tag list to pickle for later use"
   ]
  },
  {
   "cell_type": "code",
   "execution_count": 14,
   "id": "995f7518-3bd5-4e01-857e-8d46e9980e68",
   "metadata": {
    "tags": []
   },
   "outputs": [],
   "source": [
    "import pickle"
   ]
  },
  {
   "cell_type": "code",
   "execution_count": 15,
   "id": "3624382a-a7a5-41c4-994a-1da13c565b5e",
   "metadata": {
    "tags": []
   },
   "outputs": [],
   "source": [
    "# save tag list for later use\n",
    "with open(\"../../../util/tag_list\", \"wb\") as fp:\n",
    "    pickle.dump(output_tag_list, fp)"
   ]
  },
  {
   "cell_type": "code",
   "execution_count": 16,
   "id": "1d21d4d1-b01d-401c-bcb7-3c43c78e8c55",
   "metadata": {
    "tags": []
   },
   "outputs": [],
   "source": [
    "with open(\"../../../util/tag_list\", \"rb\") as fp:\n",
    "    tag_list_from_pickle = pickle.load(fp)"
   ]
  },
  {
   "cell_type": "code",
   "execution_count": 17,
   "id": "b9d929f5-8352-4511-9354-ce24d1f3a7fb",
   "metadata": {
    "tags": []
   },
   "outputs": [
    {
     "data": {
      "text/plain": [
       "['3d_cg_rendering', '3d_glasses', 'abacus', 'abalone', 'monastery']"
      ]
     },
     "execution_count": 17,
     "metadata": {},
     "output_type": "execute_result"
    }
   ],
   "source": [
    "tag_list_from_pickle[:5]"
   ]
  },
  {
   "cell_type": "code",
   "execution_count": 18,
   "id": "48779896-7e30-490e-b03d-287cbcd0f61b",
   "metadata": {
    "tags": []
   },
   "outputs": [
    {
     "data": {
      "text/plain": [
       "dict_keys(['L01_V001', 'L01_V002', 'L01_V003', 'L01_V004', 'L01_V005', 'L01_V006', 'L01_V007', 'L01_V008', 'L01_V009', 'L01_V010', 'L01_V011', 'L01_V012', 'L01_V013', 'L01_V014', 'L01_V015', 'L01_V016', 'L01_V017', 'L01_V018', 'L01_V019', 'L01_V020', 'L01_V021', 'L01_V022', 'L01_V023', 'L01_V024', 'L01_V025', 'L01_V026', 'L01_V027', 'L01_V028', 'L01_V029', 'L01_V030', 'L01_V031', 'L02_V001', 'L02_V002', 'L02_V003', 'L02_V004', 'L02_V005', 'L02_V006', 'L02_V007', 'L02_V008', 'L02_V009', 'L02_V010', 'L02_V011', 'L02_V012', 'L02_V013', 'L02_V014', 'L02_V015', 'L02_V016', 'L02_V017', 'L02_V018', 'L02_V019', 'L02_V020', 'L02_V021', 'L02_V022', 'L02_V023', 'L02_V024', 'L02_V025', 'L02_V026', 'L02_V027', 'L02_V028', 'L02_V029', 'L02_V030', 'L02_V031', 'L03_V001', 'L03_V002', 'L03_V003', 'L03_V004', 'L03_V005', 'L03_V006', 'L03_V007', 'L03_V008', 'L03_V009', 'L03_V010', 'L03_V011', 'L03_V012', 'L03_V013', 'L03_V014', 'L03_V015', 'L03_V016', 'L03_V017', 'L03_V018', 'L03_V019', 'L03_V020', 'L03_V021', 'L03_V022', 'L03_V023', 'L03_V024', 'L03_V025', 'L03_V026', 'L03_V027', 'L03_V028', 'L03_V029', 'L03_V030', 'L04_V001', 'L04_V002', 'L04_V003', 'L04_V004', 'L04_V005', 'L04_V006', 'L04_V007', 'L04_V008', 'L04_V009', 'L04_V010', 'L04_V011', 'L04_V012', 'L04_V013', 'L04_V014', 'L04_V015', 'L04_V016', 'L04_V017', 'L04_V018', 'L04_V019', 'L04_V020', 'L04_V021', 'L04_V022', 'L04_V023', 'L04_V024', 'L04_V025', 'L04_V026', 'L04_V027', 'L04_V028', 'L04_V029', 'L04_V030', 'L05_V001', 'L05_V002', 'L05_V003', 'L05_V004', 'L05_V005', 'L05_V006', 'L05_V007', 'L05_V008', 'L05_V009', 'L05_V010', 'L05_V011', 'L05_V012', 'L05_V013', 'L05_V014', 'L05_V015', 'L05_V016', 'L05_V017', 'L05_V018', 'L05_V019', 'L05_V020', 'L05_V021', 'L05_V022', 'L05_V023', 'L05_V024', 'L05_V025', 'L05_V026', 'L05_V027', 'L05_V028', 'L05_V029', 'L05_V030', 'L05_V031', 'L06_V001', 'L06_V002', 'L06_V003', 'L06_V004', 'L06_V005', 'L06_V006', 'L06_V007', 'L06_V008', 'L06_V009', 'L06_V010', 'L06_V011', 'L06_V012', 'L06_V013', 'L06_V014', 'L06_V015', 'L06_V016', 'L06_V017', 'L06_V018', 'L06_V019', 'L06_V020', 'L06_V021', 'L06_V022', 'L06_V023', 'L06_V024', 'L06_V025', 'L06_V026', 'L06_V027', 'L06_V028', 'L06_V029', 'L06_V030', 'L06_V031', 'L07_V001', 'L07_V002', 'L07_V003', 'L07_V004', 'L07_V005', 'L07_V006', 'L07_V007', 'L07_V008', 'L07_V009', 'L07_V010', 'L07_V011', 'L07_V012', 'L07_V013', 'L07_V014', 'L07_V015', 'L07_V016', 'L07_V017', 'L07_V018', 'L07_V019', 'L07_V020', 'L07_V021', 'L07_V022', 'L07_V023', 'L07_V024', 'L07_V025', 'L07_V026', 'L07_V027', 'L07_V028', 'L07_V029', 'L07_V030', 'L07_V031', 'L08_V001', 'L08_V002', 'L08_V003', 'L08_V004', 'L08_V005', 'L08_V006', 'L08_V007', 'L08_V008', 'L08_V009', 'L08_V010', 'L08_V011', 'L08_V012', 'L08_V013', 'L08_V014', 'L08_V015', 'L08_V016', 'L08_V017', 'L08_V018', 'L08_V019', 'L08_V020', 'L08_V021', 'L08_V022', 'L08_V023', 'L08_V024', 'L08_V025', 'L08_V026', 'L08_V027', 'L08_V028', 'L08_V029', 'L08_V030', 'L09_V001', 'L09_V002', 'L09_V003', 'L09_V004', 'L09_V005', 'L09_V006', 'L09_V007', 'L09_V008', 'L09_V009', 'L09_V010', 'L09_V011', 'L09_V012', 'L09_V013', 'L09_V014', 'L09_V015', 'L09_V016', 'L09_V017', 'L09_V018', 'L09_V019', 'L09_V020', 'L09_V021', 'L09_V022', 'L09_V023', 'L09_V024', 'L09_V025', 'L09_V026', 'L09_V027', 'L09_V028', 'L09_V029', 'L10_V001', 'L10_V002', 'L10_V003', 'L10_V004', 'L10_V005', 'L10_V006', 'L10_V007', 'L10_V008', 'L10_V009', 'L10_V010', 'L10_V011', 'L10_V012', 'L10_V013', 'L10_V014', 'L10_V015', 'L10_V016', 'L10_V017', 'L10_V018', 'L10_V019', 'L10_V020', 'L10_V021', 'L10_V022', 'L10_V023', 'L10_V024', 'L10_V025', 'L10_V026', 'L10_V027', 'L10_V028', 'L10_V029', 'L11_V001', 'L11_V002', 'L11_V003', 'L11_V004', 'L11_V005', 'L11_V006', 'L11_V007', 'L11_V008', 'L11_V009', 'L11_V010', 'L11_V011', 'L11_V012', 'L11_V013', 'L11_V014', 'L11_V015', 'L11_V016', 'L11_V017', 'L11_V018', 'L11_V019', 'L11_V020', 'L11_V021', 'L11_V022', 'L11_V023', 'L11_V024', 'L11_V025', 'L11_V026', 'L11_V027', 'L11_V028', 'L11_V029', 'L11_V030', 'L12_V001', 'L12_V002', 'L12_V003', 'L12_V004', 'L12_V005', 'L12_V006', 'L12_V007', 'L12_V008', 'L12_V009', 'L12_V010', 'L12_V011', 'L12_V012', 'L12_V013', 'L12_V014', 'L12_V015', 'L12_V016', 'L12_V017', 'L12_V018', 'L12_V019', 'L12_V020', 'L12_V021', 'L12_V022', 'L12_V023', 'L12_V024', 'L12_V025', 'L12_V026', 'L12_V027', 'L12_V028', 'L12_V029', 'L12_V030', 'L13_V001', 'L13_V002', 'L13_V003', 'L13_V004', 'L13_V005', 'L13_V006', 'L13_V007', 'L13_V008', 'L13_V009', 'L13_V010', 'L13_V011', 'L13_V012', 'L13_V013', 'L13_V014', 'L13_V015', 'L13_V016', 'L13_V017', 'L13_V018', 'L13_V019', 'L13_V020', 'L13_V021', 'L13_V022', 'L13_V023', 'L13_V024', 'L13_V025', 'L13_V026', 'L13_V027', 'L13_V028', 'L13_V029', 'L13_V030', 'L14_V001', 'L14_V002', 'L14_V003', 'L14_V004', 'L14_V005', 'L14_V006', 'L14_V007', 'L14_V008', 'L14_V009', 'L14_V011', 'L14_V012', 'L14_V013', 'L14_V014', 'L14_V015', 'L14_V016', 'L14_V017', 'L14_V018', 'L14_V019', 'L14_V020', 'L14_V021', 'L14_V022', 'L14_V023', 'L14_V024', 'L14_V025', 'L14_V026', 'L14_V027', 'L14_V028', 'L15_V001', 'L15_V002', 'L15_V003', 'L15_V004', 'L15_V005', 'L15_V006', 'L15_V007', 'L15_V008', 'L15_V009', 'L15_V010', 'L15_V011', 'L15_V012', 'L15_V013', 'L15_V014', 'L15_V015', 'L15_V016', 'L15_V017', 'L15_V018', 'L15_V019', 'L15_V020', 'L15_V021', 'L15_V022', 'L15_V023', 'L15_V024', 'L15_V025', 'L15_V026', 'L15_V027', 'L15_V028', 'L15_V029', 'L15_V030', 'L15_V031', 'L16_V001', 'L16_V002', 'L16_V003', 'L16_V004', 'L16_V005', 'L16_V006', 'L16_V007', 'L16_V008', 'L16_V009', 'L16_V010', 'L16_V011', 'L16_V012', 'L16_V013', 'L16_V014', 'L16_V015', 'L16_V016', 'L16_V017', 'L16_V018', 'L16_V019', 'L16_V020', 'L16_V021', 'L16_V022', 'L16_V023', 'L16_V024', 'L16_V025', 'L16_V026', 'L16_V027', 'L16_V028', 'L16_V029', 'L16_V030', 'L16_V031', 'L17_V001', 'L17_V002', 'L17_V003', 'L17_V004', 'L17_V005', 'L17_V006', 'L17_V007', 'L17_V009', 'L17_V010', 'L17_V011', 'L17_V012', 'L17_V013', 'L17_V014', 'L17_V015', 'L17_V016', 'L17_V017', 'L17_V018', 'L17_V019', 'L17_V020', 'L17_V021', 'L17_V022', 'L17_V023', 'L17_V024', 'L17_V025', 'L17_V026', 'L17_V027', 'L17_V028', 'L17_V029', 'L18_V001', 'L18_V002', 'L18_V003', 'L18_V004', 'L18_V005', 'L18_V006', 'L18_V007', 'L18_V008', 'L18_V009', 'L18_V010', 'L18_V011', 'L18_V012', 'L18_V013', 'L18_V014', 'L18_V015', 'L18_V016', 'L18_V017', 'L18_V018', 'L18_V019', 'L18_V020', 'L18_V021', 'L18_V022', 'L18_V023', 'L18_V024', 'L18_V025', 'L18_V026', 'L18_V027', 'L18_V028', 'L18_V029', 'L19_V001', 'L19_V003', 'L19_V004', 'L19_V005', 'L19_V006', 'L19_V007', 'L19_V008', 'L19_V009', 'L19_V010', 'L19_V011', 'L19_V012', 'L19_V013', 'L19_V014', 'L19_V015', 'L19_V016', 'L19_V017', 'L19_V018', 'L19_V019', 'L19_V020', 'L19_V021', 'L19_V022', 'L19_V023', 'L19_V024', 'L19_V025', 'L19_V026', 'L19_V027', 'L19_V028', 'L19_V029', 'L19_V030', 'L19_V031', 'L20_V001', 'L20_V002', 'L20_V003', 'L20_V004', 'L20_V005', 'L20_V006', 'L20_V007', 'L20_V008', 'L20_V009', 'L20_V010', 'L20_V011', 'L20_V012', 'L20_V013', 'L20_V014', 'L20_V015', 'L20_V016', 'L20_V017', 'L20_V018', 'L20_V019', 'L20_V020', 'L20_V021', 'L20_V022', 'L20_V024', 'L20_V025', 'L20_V027', 'L20_V028', 'L20_V029', 'L20_V030', 'L20_V031', 'L21_V001', 'L21_V002', 'L21_V003', 'L21_V005', 'L21_V006', 'L21_V007', 'L21_V008', 'L21_V009', 'L21_V010', 'L21_V011', 'L21_V012', 'L21_V013', 'L21_V014', 'L21_V015', 'L21_V016', 'L21_V017', 'L21_V018', 'L21_V019', 'L21_V021', 'L21_V022', 'L21_V023', 'L21_V024', 'L21_V025', 'L21_V026', 'L21_V027', 'L21_V028', 'L21_V029', 'L21_V030', 'L21_V031', 'L22_V001', 'L22_V002', 'L22_V003', 'L22_V004', 'L22_V005', 'L22_V006', 'L22_V007', 'L22_V008', 'L22_V009', 'L22_V010', 'L22_V011', 'L22_V012', 'L22_V013', 'L22_V014', 'L22_V015', 'L22_V016', 'L22_V017', 'L22_V018', 'L22_V019', 'L22_V020', 'L22_V021', 'L22_V022', 'L22_V023', 'L22_V024', 'L22_V025', 'L22_V026', 'L22_V027', 'L22_V028', 'L22_V029', 'L22_V030', 'L22_V031', 'L23_V001', 'L23_V002', 'L23_V003', 'L23_V004', 'L23_V005', 'L23_V006', 'L23_V007', 'L23_V008', 'L23_V009', 'L23_V010', 'L23_V011', 'L23_V012', 'L23_V013', 'L23_V014', 'L23_V015', 'L23_V016', 'L23_V017', 'L23_V018', 'L23_V019', 'L23_V020', 'L23_V021', 'L23_V022', 'L23_V023', 'L23_V024', 'L23_V025', 'L24_V002', 'L24_V003', 'L24_V004', 'L24_V005', 'L24_V006', 'L24_V007', 'L24_V008', 'L24_V009', 'L24_V010', 'L24_V011', 'L24_V012', 'L24_V013', 'L24_V014', 'L24_V015', 'L24_V016', 'L24_V017', 'L24_V018', 'L24_V019', 'L24_V020', 'L24_V021', 'L24_V022', 'L24_V023', 'L24_V024', 'L24_V025', 'L24_V026', 'L24_V027', 'L24_V028', 'L24_V029', 'L24_V030', 'L24_V031', 'L24_V032', 'L24_V033', 'L24_V035', 'L24_V036', 'L24_V037', 'L24_V038', 'L24_V039', 'L24_V040', 'L24_V041', 'L24_V042', 'L24_V043', 'L24_V044', 'L24_V045', 'L25_V001', 'L25_V002', 'L25_V003', 'L25_V004', 'L25_V005', 'L25_V006', 'L25_V007', 'L25_V008', 'L25_V009', 'L25_V010', 'L25_V011', 'L25_V012', 'L25_V013', 'L25_V014', 'L25_V015', 'L25_V016', 'L25_V017', 'L25_V018', 'L25_V019', 'L25_V020', 'L25_V021', 'L25_V022', 'L25_V023', 'L25_V024', 'L25_V025', 'L25_V026', 'L25_V027', 'L25_V028', 'L25_V029', 'L25_V030', 'L25_V031', 'L25_V032', 'L25_V033', 'L25_V034', 'L25_V035', 'L25_V036', 'L25_V037', 'L25_V038', 'L25_V039', 'L25_V040', 'L25_V041', 'L25_V042', 'L25_V043', 'L25_V044', 'L25_V045', 'L25_V046', 'L25_V047', 'L25_V048', 'L25_V049', 'L25_V050', 'L25_V051', 'L25_V052', 'L25_V053', 'L25_V054', 'L25_V055', 'L25_V056', 'L25_V057', 'L25_V058', 'L25_V059', 'L25_V060', 'L25_V061', 'L25_V062', 'L25_V063', 'L25_V064', 'L25_V065', 'L25_V066', 'L25_V067', 'L25_V068', 'L25_V069', 'L25_V070', 'L25_V071', 'L25_V072', 'L25_V073', 'L25_V074', 'L25_V075', 'L25_V076', 'L25_V077', 'L25_V078', 'L25_V079', 'L25_V080', 'L25_V081', 'L25_V082', 'L25_V083', 'L25_V084', 'L25_V085', 'L25_V086', 'L25_V087', 'L25_V088', 'L26_V001', 'L26_V002', 'L26_V003', 'L26_V004', 'L26_V005', 'L26_V006', 'L26_V007', 'L26_V008', 'L26_V009', 'L26_V010', 'L26_V011', 'L26_V012', 'L26_V013', 'L26_V014', 'L26_V015', 'L26_V016', 'L26_V017', 'L26_V018', 'L26_V019', 'L26_V020', 'L26_V021', 'L26_V022', 'L26_V023', 'L26_V024', 'L26_V025', 'L26_V026', 'L26_V027', 'L26_V028', 'L26_V029', 'L26_V030', 'L26_V031', 'L26_V032', 'L26_V033', 'L26_V034', 'L26_V035', 'L26_V036', 'L26_V037', 'L26_V038', 'L26_V039', 'L26_V040', 'L26_V041', 'L26_V042', 'L26_V043', 'L26_V044', 'L26_V045', 'L26_V046', 'L26_V047', 'L26_V048', 'L26_V049', 'L26_V050', 'L26_V051', 'L26_V052', 'L26_V053', 'L26_V054', 'L26_V055', 'L26_V056', 'L26_V057', 'L26_V058', 'L26_V059', 'L26_V060', 'L26_V061', 'L26_V062', 'L26_V063', 'L26_V064', 'L26_V065', 'L26_V066', 'L26_V067', 'L26_V068', 'L26_V069', 'L26_V070', 'L26_V071', 'L26_V072', 'L26_V073', 'L26_V074', 'L26_V075', 'L26_V076', 'L26_V077', 'L26_V078', 'L26_V079', 'L26_V080', 'L26_V081', 'L26_V082', 'L26_V083', 'L26_V084', 'L26_V085', 'L26_V086', 'L26_V087', 'L26_V088', 'L26_V089', 'L26_V090', 'L26_V091', 'L26_V092', 'L26_V093', 'L26_V094', 'L26_V095', 'L26_V096', 'L26_V097', 'L26_V098', 'L26_V099', 'L26_V100', 'L26_V101', 'L26_V102', 'L26_V103', 'L26_V104', 'L26_V105', 'L26_V106', 'L26_V107', 'L26_V108', 'L26_V109', 'L26_V110', 'L26_V111', 'L26_V112', 'L26_V113', 'L26_V114', 'L26_V115', 'L26_V116', 'L26_V117', 'L26_V118', 'L26_V119', 'L26_V120', 'L26_V121', 'L26_V122', 'L26_V123', 'L26_V124', 'L26_V125', 'L26_V126', 'L26_V127', 'L26_V128', 'L26_V129', 'L26_V130', 'L26_V131', 'L26_V132', 'L26_V133', 'L26_V134', 'L26_V135', 'L26_V136', 'L26_V137', 'L26_V138', 'L26_V139', 'L26_V140', 'L26_V141', 'L26_V142', 'L26_V143', 'L26_V144', 'L26_V145', 'L26_V146', 'L26_V147', 'L26_V148', 'L26_V149', 'L26_V150', 'L26_V151', 'L26_V152', 'L26_V153', 'L26_V154', 'L26_V155', 'L26_V156', 'L26_V157', 'L26_V158', 'L26_V159', 'L26_V160', 'L26_V161', 'L26_V162', 'L26_V163', 'L26_V164', 'L26_V165', 'L26_V166', 'L26_V167', 'L26_V168', 'L26_V169', 'L26_V170', 'L26_V171', 'L26_V172', 'L26_V173', 'L26_V174', 'L26_V175', 'L26_V176', 'L26_V177', 'L26_V178', 'L26_V179', 'L26_V180', 'L26_V181', 'L26_V182', 'L26_V183', 'L26_V184', 'L26_V185', 'L26_V186', 'L26_V187', 'L26_V188', 'L26_V189', 'L26_V190', 'L26_V191', 'L26_V192', 'L26_V193', 'L26_V194', 'L26_V195', 'L26_V196', 'L26_V197', 'L26_V198', 'L26_V199', 'L26_V200', 'L26_V201', 'L26_V202', 'L26_V203', 'L26_V204', 'L26_V205', 'L26_V206', 'L26_V207', 'L26_V208', 'L26_V209', 'L26_V210', 'L26_V211', 'L26_V212', 'L26_V213', 'L26_V214', 'L26_V215', 'L26_V216', 'L26_V217', 'L26_V218', 'L26_V219', 'L26_V220', 'L26_V221', 'L26_V222', 'L26_V223', 'L26_V224', 'L26_V225', 'L26_V226', 'L26_V227', 'L26_V228', 'L26_V229', 'L26_V230', 'L26_V231', 'L26_V232', 'L26_V233', 'L26_V234', 'L26_V235', 'L26_V236', 'L26_V237', 'L26_V238', 'L26_V239', 'L26_V240', 'L26_V241', 'L26_V242', 'L26_V243', 'L26_V244', 'L26_V245', 'L26_V246', 'L26_V247', 'L26_V248', 'L26_V249', 'L26_V250', 'L26_V251', 'L26_V252', 'L26_V253', 'L26_V254', 'L26_V255', 'L26_V256', 'L26_V257', 'L26_V258', 'L26_V259', 'L26_V260', 'L26_V261', 'L26_V262', 'L26_V263', 'L26_V264', 'L26_V265', 'L26_V266', 'L26_V267', 'L26_V268', 'L26_V269', 'L26_V270', 'L26_V271', 'L26_V272', 'L26_V273', 'L26_V274', 'L26_V275', 'L26_V276', 'L26_V277', 'L26_V278', 'L26_V279', 'L26_V280', 'L26_V281', 'L26_V282', 'L26_V283', 'L26_V284', 'L26_V285', 'L26_V286', 'L26_V287', 'L26_V288', 'L26_V289', 'L26_V290', 'L26_V291', 'L26_V292', 'L26_V293', 'L26_V294', 'L26_V295', 'L26_V296', 'L26_V297', 'L26_V298', 'L26_V299', 'L26_V300', 'L26_V301', 'L26_V302', 'L26_V303', 'L26_V304', 'L26_V305', 'L26_V306', 'L26_V307', 'L26_V308', 'L26_V309', 'L26_V310', 'L26_V311', 'L26_V312', 'L26_V313', 'L26_V314', 'L26_V315', 'L26_V316', 'L26_V317', 'L26_V318', 'L26_V319', 'L26_V320', 'L26_V321', 'L26_V322', 'L26_V323', 'L26_V324', 'L26_V325', 'L26_V326', 'L26_V327', 'L26_V328', 'L26_V329', 'L26_V330', 'L26_V331', 'L26_V332', 'L26_V333', 'L26_V334', 'L26_V335', 'L26_V336', 'L26_V337', 'L26_V338', 'L26_V339', 'L26_V340', 'L26_V341', 'L26_V342', 'L26_V343', 'L26_V344', 'L26_V345', 'L26_V346', 'L26_V347', 'L26_V348', 'L26_V349', 'L26_V350', 'L26_V351', 'L26_V352', 'L26_V353', 'L26_V354', 'L26_V355', 'L26_V356', 'L26_V357', 'L26_V358', 'L26_V359', 'L26_V360', 'L26_V361', 'L26_V362', 'L26_V363', 'L26_V364', 'L26_V365', 'L26_V366', 'L26_V367', 'L26_V368', 'L26_V369', 'L26_V370', 'L26_V371', 'L26_V372', 'L26_V373', 'L26_V374', 'L26_V375', 'L26_V376', 'L26_V377', 'L26_V378', 'L26_V379', 'L26_V380', 'L26_V381', 'L26_V382', 'L26_V383', 'L26_V384', 'L26_V385', 'L26_V386', 'L26_V387', 'L26_V388', 'L26_V389', 'L26_V390', 'L26_V391', 'L26_V392', 'L26_V393', 'L26_V394', 'L26_V395', 'L26_V396', 'L26_V397', 'L26_V398', 'L26_V399', 'L26_V400', 'L26_V401', 'L26_V402', 'L26_V403', 'L26_V404', 'L26_V405', 'L26_V406', 'L26_V407', 'L26_V408', 'L26_V409', 'L26_V410', 'L26_V411', 'L26_V412', 'L26_V413', 'L26_V414', 'L26_V415', 'L26_V416', 'L26_V418', 'L26_V419', 'L26_V420', 'L26_V421', 'L26_V422', 'L26_V423', 'L26_V424', 'L26_V425', 'L26_V426', 'L26_V427', 'L26_V428', 'L26_V429', 'L26_V430', 'L26_V431', 'L26_V432', 'L26_V433', 'L26_V434', 'L26_V435', 'L26_V436', 'L26_V437', 'L26_V438', 'L26_V439', 'L26_V440', 'L26_V441', 'L26_V442', 'L26_V443', 'L26_V444', 'L26_V445', 'L26_V446', 'L26_V447', 'L26_V448', 'L26_V449', 'L26_V450', 'L26_V451', 'L26_V452', 'L26_V453', 'L26_V454', 'L26_V455', 'L26_V456', 'L26_V457', 'L26_V458', 'L26_V459', 'L26_V460', 'L26_V461', 'L26_V462', 'L26_V463', 'L26_V464', 'L26_V465', 'L26_V466', 'L26_V467', 'L26_V468', 'L26_V469', 'L26_V470', 'L26_V471', 'L26_V472', 'L26_V473', 'L26_V474', 'L26_V475', 'L26_V476', 'L26_V477', 'L26_V478', 'L26_V479', 'L26_V480', 'L26_V481', 'L26_V482', 'L26_V483', 'L26_V484', 'L26_V485', 'L26_V486', 'L26_V487', 'L26_V488', 'L26_V489', 'L26_V490', 'L26_V491', 'L26_V492', 'L26_V493', 'L26_V494', 'L26_V495', 'L26_V496', 'L26_V497', 'L26_V498', 'L26_V499', 'L27_V001', 'L27_V002', 'L27_V003', 'L27_V004', 'L27_V005', 'L27_V006', 'L27_V007', 'L27_V008', 'L27_V009', 'L27_V010', 'L27_V011', 'L27_V012', 'L27_V013', 'L27_V014', 'L27_V015', 'L27_V016', 'L28_V001', 'L28_V002', 'L28_V003', 'L28_V004', 'L28_V005', 'L28_V006', 'L28_V007', 'L28_V008', 'L28_V009', 'L28_V010', 'L28_V011', 'L28_V012', 'L28_V013', 'L28_V014', 'L28_V015', 'L28_V016', 'L28_V017', 'L28_V018', 'L28_V019', 'L28_V020', 'L28_V021', 'L28_V022', 'L28_V023', 'L28_V024', 'L29_V001', 'L29_V002', 'L29_V003', 'L29_V004', 'L29_V005', 'L29_V006', 'L29_V007', 'L29_V008', 'L29_V009', 'L29_V010', 'L29_V011', 'L29_V012', 'L29_V013', 'L29_V014', 'L29_V015', 'L29_V016', 'L29_V017', 'L29_V018', 'L29_V019', 'L29_V020', 'L29_V021', 'L29_V022', 'L29_V023', 'L30_V001', 'L30_V002', 'L30_V003', 'L30_V004', 'L30_V005', 'L30_V006', 'L30_V007', 'L30_V008', 'L30_V009', 'L30_V010', 'L30_V011', 'L30_V012', 'L30_V013', 'L30_V014', 'L30_V015', 'L30_V016', 'L30_V017', 'L30_V018', 'L30_V019', 'L30_V020', 'L30_V021', 'L30_V022', 'L30_V023', 'L30_V024', 'L30_V025', 'L30_V026', 'L30_V027', 'L30_V028', 'L30_V029', 'L30_V030', 'L30_V031', 'L30_V032', 'L30_V033', 'L30_V034', 'L30_V035', 'L30_V036', 'L30_V037', 'L30_V038', 'L30_V039', 'L30_V040', 'L30_V041', 'L30_V042', 'L30_V043', 'L30_V044', 'L30_V045', 'L30_V046', 'L30_V047', 'L30_V048', 'L30_V049', 'L30_V050', 'L30_V051', 'L30_V052', 'L30_V053', 'L30_V054', 'L30_V055', 'L30_V056', 'L30_V057', 'L30_V058', 'L30_V059', 'L30_V060', 'L30_V061', 'L30_V062', 'L30_V063', 'L30_V064', 'L30_V065', 'L30_V066', 'L30_V067', 'L30_V068', 'L30_V069', 'L30_V070', 'L30_V071', 'L30_V072', 'L30_V073', 'L30_V074', 'L30_V075', 'L30_V076', 'L30_V077', 'L30_V078', 'L30_V079', 'L30_V080', 'L30_V081', 'L30_V082', 'L30_V083', 'L30_V084', 'L30_V085', 'L30_V086', 'L30_V087', 'L30_V088', 'L30_V089', 'L30_V090', 'L30_V091', 'L30_V092', 'L30_V093', 'L30_V094', 'L30_V095', 'L30_V096'])"
      ]
     },
     "execution_count": 18,
     "metadata": {},
     "output_type": "execute_result"
    }
   ],
   "source": [
    "video_keyframe_paths.keys()"
   ]
  },
  {
   "cell_type": "code",
   "execution_count": null,
   "id": "627f1262-5910-4120-a2fb-5478799a5720",
   "metadata": {},
   "outputs": [
    {
     "name": "stderr",
     "output_type": "stream",
     "text": [
      "  0%|          | 0/1471 [00:00<?, ?it/s]\n",
      "  0%|          | 0/9 [00:00<?, ?it/s]\u001b[A\n",
      " 11%|█         | 1/9 [00:04<00:34,  4.31s/it]\u001b[A\n",
      " 22%|██▏       | 2/9 [00:08<00:29,  4.25s/it]\u001b[A\n",
      " 33%|███▎      | 3/9 [00:12<00:25,  4.24s/it]\u001b[A\n",
      " 44%|████▍     | 4/9 [00:16<00:21,  4.21s/it]\u001b[A\n",
      " 56%|█████▌    | 5/9 [00:21<00:16,  4.20s/it]\u001b[A\n",
      " 67%|██████▋   | 6/9 [00:25<00:12,  4.19s/it]\u001b[A\n",
      " 78%|███████▊  | 7/9 [00:29<00:08,  4.18s/it]\u001b[A\n",
      " 89%|████████▉ | 8/9 [00:33<00:04,  4.15s/it]\u001b[A\n",
      "100%|██████████| 9/9 [00:35<00:00,  3.95s/it]\u001b[A\n",
      "  0%|          | 1/1471 [00:35<14:31:12, 35.56s/it]\n",
      "  0%|          | 0/7 [00:00<?, ?it/s]\u001b[A\n",
      " 14%|█▍        | 1/7 [00:04<00:24,  4.11s/it]\u001b[A\n",
      " 29%|██▊       | 2/7 [00:08<00:20,  4.10s/it]\u001b[A\n",
      " 43%|████▎     | 3/7 [00:12<00:16,  4.09s/it]\u001b[A\n",
      " 57%|█████▋    | 4/7 [00:16<00:12,  4.08s/it]\u001b[A\n",
      " 71%|███████▏  | 5/7 [00:20<00:08,  4.08s/it]\u001b[A\n",
      " 86%|████████▌ | 6/7 [00:24<00:04,  4.08s/it]\u001b[A\n",
      "100%|██████████| 7/7 [00:27<00:00,  3.94s/it]\u001b[A\n",
      "  0%|          | 2/1471 [01:03<12:36:09, 30.88s/it]\n",
      "  0%|          | 0/9 [00:00<?, ?it/s]\u001b[A\n",
      " 11%|█         | 1/9 [00:04<00:32,  4.07s/it]\u001b[A\n",
      " 22%|██▏       | 2/9 [00:08<00:28,  4.07s/it]\u001b[A\n",
      " 33%|███▎      | 3/9 [00:12<00:24,  4.08s/it]\u001b[A\n",
      " 44%|████▍     | 4/9 [00:16<00:20,  4.10s/it]\u001b[A\n",
      " 56%|█████▌    | 5/9 [00:20<00:16,  4.10s/it]\u001b[A\n",
      " 67%|██████▋   | 6/9 [00:24<00:12,  4.11s/it]\u001b[A\n",
      " 78%|███████▊  | 7/9 [00:28<00:08,  4.11s/it]\u001b[A\n",
      " 89%|████████▉ | 8/9 [00:32<00:04,  4.11s/it]\u001b[A\n",
      "100%|██████████| 9/9 [00:36<00:00,  4.02s/it]\u001b[A\n",
      "  0%|          | 3/1471 [01:39<13:34:44, 33.30s/it]\n",
      "  0%|          | 0/7 [00:00<?, ?it/s]\u001b[A\n",
      " 14%|█▍        | 1/7 [00:04<00:24,  4.11s/it]\u001b[A\n",
      " 29%|██▊       | 2/7 [00:08<00:20,  4.10s/it]\u001b[A\n",
      " 43%|████▎     | 3/7 [00:12<00:16,  4.12s/it]\u001b[A\n",
      " 57%|█████▋    | 4/7 [00:16<00:12,  4.13s/it]\u001b[A\n",
      " 71%|███████▏  | 5/7 [00:20<00:08,  4.13s/it]\u001b[A\n",
      " 86%|████████▌ | 6/7 [00:24<00:04,  4.13s/it]\u001b[A\n",
      "100%|██████████| 7/7 [00:27<00:00,  3.97s/it]\u001b[A\n",
      "  0%|          | 4/1471 [02:07<12:40:46, 31.12s/it]\n",
      "  0%|          | 0/9 [00:00<?, ?it/s]\u001b[A\n",
      " 11%|█         | 1/9 [00:04<00:32,  4.06s/it]\u001b[A\n",
      " 22%|██▏       | 2/9 [00:08<00:28,  4.10s/it]\u001b[A\n",
      " 33%|███▎      | 3/9 [00:12<00:24,  4.12s/it]\u001b[A\n",
      " 44%|████▍     | 4/9 [00:16<00:20,  4.13s/it]\u001b[A\n",
      " 56%|█████▌    | 5/9 [00:20<00:16,  4.14s/it]\u001b[A\n",
      " 67%|██████▋   | 6/9 [00:24<00:12,  4.13s/it]\u001b[A\n",
      " 78%|███████▊  | 7/9 [00:28<00:08,  4.10s/it]\u001b[A\n",
      " 89%|████████▉ | 8/9 [00:32<00:04,  4.09s/it]\u001b[A\n",
      "100%|██████████| 9/9 [00:33<00:00,  3.77s/it]\u001b[A\n",
      "  0%|          | 5/1471 [02:41<13:04:46, 32.12s/it]\n",
      "  0%|          | 0/8 [00:00<?, ?it/s]\u001b[A\n",
      " 12%|█▎        | 1/8 [00:04<00:28,  4.10s/it]\u001b[A\n",
      " 25%|██▌       | 2/8 [00:08<00:24,  4.11s/it]\u001b[A\n",
      " 38%|███▊      | 3/8 [00:12<00:20,  4.11s/it]\u001b[A\n",
      " 50%|█████     | 4/8 [00:16<00:16,  4.10s/it]\u001b[A\n",
      " 62%|██████▎   | 5/8 [00:20<00:12,  4.09s/it]\u001b[A\n",
      " 75%|███████▌  | 6/8 [00:24<00:08,  4.08s/it]\u001b[A\n",
      " 88%|████████▊ | 7/8 [00:28<00:04,  4.10s/it]\u001b[A\n",
      "100%|██████████| 8/8 [00:29<00:00,  3.70s/it]\u001b[A\n",
      "  0%|          | 6/1471 [03:10<12:43:03, 31.25s/it]\n",
      "  0%|          | 0/8 [00:00<?, ?it/s]\u001b[A\n",
      " 12%|█▎        | 1/8 [00:04<00:28,  4.07s/it]\u001b[A\n",
      " 25%|██▌       | 2/8 [00:08<00:24,  4.11s/it]\u001b[A\n",
      " 38%|███▊      | 3/8 [00:12<00:20,  4.13s/it]\u001b[A\n",
      " 50%|█████     | 4/8 [00:16<00:16,  4.11s/it]\u001b[A\n",
      " 62%|██████▎   | 5/8 [00:20<00:12,  4.09s/it]\u001b[A\n",
      " 75%|███████▌  | 6/8 [00:24<00:08,  4.08s/it]\u001b[A\n",
      " 88%|████████▊ | 7/8 [00:28<00:04,  4.08s/it]\u001b[A\n",
      "100%|██████████| 8/8 [00:31<00:00,  3.89s/it]\u001b[A\n",
      "  0%|          | 7/1471 [03:41<12:41:15, 31.20s/it]\n",
      "  0%|          | 0/9 [00:00<?, ?it/s]\u001b[A\n",
      " 11%|█         | 1/9 [00:04<00:33,  4.16s/it]\u001b[A\n",
      " 22%|██▏       | 2/9 [00:08<00:29,  4.16s/it]\u001b[A\n",
      " 33%|███▎      | 3/9 [00:12<00:24,  4.15s/it]\u001b[A\n",
      " 44%|████▍     | 4/9 [00:16<00:20,  4.16s/it]\u001b[A\n",
      " 56%|█████▌    | 5/9 [00:20<00:16,  4.17s/it]\u001b[A\n",
      " 67%|██████▋   | 6/9 [00:24<00:12,  4.16s/it]\u001b[A\n",
      " 78%|███████▊  | 7/9 [00:29<00:08,  4.16s/it]\u001b[A\n",
      " 89%|████████▉ | 8/9 [00:33<00:04,  4.16s/it]\u001b[A\n",
      "100%|██████████| 9/9 [00:34<00:00,  3.85s/it]\u001b[A\n",
      "  1%|          | 8/1471 [04:16<13:07:26, 32.29s/it]\n",
      "  0%|          | 0/9 [00:00<?, ?it/s]\u001b[A\n",
      " 11%|█         | 1/9 [00:04<00:33,  4.14s/it]\u001b[A\n",
      " 22%|██▏       | 2/9 [00:08<00:28,  4.11s/it]\u001b[A\n",
      " 33%|███▎      | 3/9 [00:12<00:24,  4.09s/it]\u001b[A\n",
      " 44%|████▍     | 4/9 [00:16<00:20,  4.08s/it]\u001b[A\n",
      " 56%|█████▌    | 5/9 [00:20<00:16,  4.08s/it]\u001b[A\n",
      " 67%|██████▋   | 6/9 [00:24<00:12,  4.08s/it]\u001b[A\n",
      " 78%|███████▊  | 7/9 [00:28<00:08,  4.11s/it]\u001b[A\n",
      " 89%|████████▉ | 8/9 [00:32<00:04,  4.13s/it]\u001b[A\n",
      "100%|██████████| 9/9 [00:32<00:00,  3.67s/it]\u001b[A\n",
      "  1%|          | 9/1471 [04:49<13:12:19, 32.52s/it]\n",
      "  0%|          | 0/8 [00:00<?, ?it/s]\u001b[A\n",
      " 12%|█▎        | 1/8 [00:05<00:41,  5.91s/it]\u001b[A\n",
      " 25%|██▌       | 2/8 [00:12<00:36,  6.09s/it]\u001b[A\n",
      " 38%|███▊      | 3/8 [00:18<00:29,  5.99s/it]\u001b[A\n",
      " 50%|█████     | 4/8 [00:24<00:24,  6.02s/it]\u001b[A\n",
      " 62%|██████▎   | 5/8 [00:29<00:17,  5.84s/it]\u001b[A\n",
      " 75%|███████▌  | 6/8 [00:35<00:11,  5.84s/it]\u001b[A\n",
      " 88%|████████▊ | 7/8 [00:41<00:05,  5.96s/it]\u001b[A\n",
      "100%|██████████| 8/8 [00:46<00:00,  5.78s/it]\u001b[A\n",
      "  1%|          | 10/1471 [05:35<14:54:48, 36.75s/it]\n",
      "  0%|          | 0/9 [00:00<?, ?it/s]\u001b[A\n",
      " 11%|█         | 1/9 [00:06<00:50,  6.32s/it]\u001b[A\n",
      " 22%|██▏       | 2/9 [00:11<00:40,  5.80s/it]\u001b[A\n",
      " 33%|███▎      | 3/9 [00:17<00:35,  5.88s/it]\u001b[A\n",
      " 44%|████▍     | 4/9 [00:23<00:28,  5.66s/it]\u001b[A\n",
      " 56%|█████▌    | 5/9 [00:28<00:22,  5.69s/it]\u001b[A\n",
      " 67%|██████▋   | 6/9 [00:34<00:17,  5.69s/it]\u001b[A\n",
      " 78%|███████▊  | 7/9 [00:40<00:11,  5.88s/it]\u001b[A\n",
      " 89%|████████▉ | 8/9 [00:46<00:05,  5.91s/it]\u001b[A\n",
      "100%|██████████| 9/9 [00:48<00:00,  5.37s/it]\u001b[A\n",
      "  1%|          | 11/1471 [06:23<16:20:22, 40.29s/it]\n",
      "  0%|          | 0/9 [00:00<?, ?it/s]\u001b[A\n",
      " 11%|█         | 1/9 [00:05<00:47,  5.90s/it]\u001b[A\n",
      " 22%|██▏       | 2/9 [00:11<00:41,  5.96s/it]\u001b[A\n",
      " 33%|███▎      | 3/9 [00:18<00:36,  6.06s/it]\u001b[A\n",
      " 44%|████▍     | 4/9 [00:23<00:29,  5.88s/it]\u001b[A\n",
      " 56%|█████▌    | 5/9 [00:29<00:23,  5.85s/it]\u001b[A\n",
      " 67%|██████▋   | 6/9 [00:34<00:17,  5.72s/it]\u001b[A\n",
      " 22%|██▏       | 2/9 [00:11<00:41,  5.90s/it]\u001b[A\n",
      " 33%|███▎      | 3/9 [00:17<00:34,  5.80s/it]\u001b[A\n",
      " 44%|████▍     | 4/9 [00:23<00:28,  5.79s/it]\u001b[A\n",
      " 56%|█████▌    | 5/9 [00:28<00:22,  5.63s/it]\u001b[A\n",
      " 67%|██████▋   | 6/9 [00:34<00:16,  5.51s/it]\u001b[A\n",
      " 78%|███████▊  | 7/9 [00:39<00:11,  5.64s/it]\u001b[A\n",
      " 89%|████████▉ | 8/9 [00:45<00:05,  5.59s/it]\u001b[A\n",
      "100%|██████████| 9/9 [00:49<00:00,  5.47s/it]\u001b[A\n",
      "  1%|          | 13/1471 [08:02<18:12:42, 44.97s/it]\n",
      "  0%|          | 0/7 [00:00<?, ?it/s]\u001b[A\n",
      " 14%|█▍        | 1/7 [00:06<00:36,  6.01s/it]\u001b[A\n",
      " 29%|██▊       | 2/7 [00:12<00:30,  6.11s/it]\u001b[A\n",
      " 43%|████▎     | 3/7 [00:17<00:23,  5.93s/it]\u001b[A\n",
      " 57%|█████▋    | 4/7 [00:23<00:17,  5.69s/it]\u001b[A\n",
      " 71%|███████▏  | 5/7 [00:28<00:11,  5.66s/it]\u001b[A\n",
      " 86%|████████▌ | 6/7 [00:34<00:05,  5.59s/it]\u001b[A\n",
      "100%|██████████| 7/7 [00:39<00:00,  5.70s/it]\u001b[A\n",
      "  1%|          | 14/1471 [08:42<17:34:58, 43.44s/it]\n",
      "  0%|          | 0/9 [00:00<?, ?it/s]\u001b[A\n",
      " 11%|█         | 1/9 [00:06<00:49,  6.17s/it]\u001b[A\n",
      " 22%|██▏       | 2/9 [00:12<00:42,  6.06s/it]\u001b[A\n",
      " 33%|███▎      | 3/9 [00:17<00:35,  5.92s/it]\u001b[A\n",
      " 44%|████▍     | 4/9 [00:23<00:29,  5.82s/it]\u001b[A\n",
      " 56%|█████▌    | 5/9 [00:29<00:23,  5.78s/it]\u001b[A\n",
      " 67%|██████▋   | 6/9 [00:35<00:17,  5.80s/it]\u001b[A\n",
      " 78%|███████▊  | 7/9 [00:40<00:11,  5.67s/it]\u001b[A\n",
      " 89%|████████▉ | 8/9 [00:46<00:05,  5.61s/it]\u001b[A\n",
      "100%|██████████| 9/9 [00:47<00:00,  5.28s/it]\u001b[A\n",
      "  1%|          | 15/1471 [09:30<18:04:20, 44.68s/it]\n",
      "  0%|          | 0/7 [00:00<?, ?it/s]\u001b[A\n",
      " 14%|█▍        | 1/7 [00:05<00:35,  5.95s/it]\u001b[A\n",
      " 29%|██▊       | 2/7 [00:11<00:27,  5.53s/it]\u001b[A\n",
      " 43%|████▎     | 3/7 [00:16<00:22,  5.62s/it]\u001b[A\n",
      " 57%|█████▋    | 4/7 [00:22<00:16,  5.53s/it]\u001b[A\n",
      " 71%|███████▏  | 5/7 [00:28<00:11,  5.64s/it]\u001b[A\n",
      " 86%|████████▌ | 6/7 [00:33<00:05,  5.53s/it]\u001b[A\n",
      "100%|██████████| 7/7 [00:38<00:00,  5.47s/it]\u001b[A\n",
      "  1%|          | 16/1471 [10:08<17:16:54, 42.76s/it]\n",
      "  0%|          | 0/9 [00:00<?, ?it/s]\u001b[A\n",
      " 11%|█         | 1/9 [00:05<00:47,  5.93s/it]\u001b[A\n",
      " 22%|██▏       | 2/9 [00:11<00:41,  5.90s/it]\u001b[A\n",
      " 33%|███▎      | 3/9 [00:17<00:34,  5.83s/it]\u001b[A\n",
      " 44%|████▍     | 4/9 [00:22<00:27,  5.58s/it]\u001b[A\n",
      " 56%|█████▌    | 5/9 [00:28<00:22,  5.56s/it]\u001b[A\n",
      " 67%|██████▋   | 6/9 [00:33<00:16,  5.42s/it]\u001b[A\n",
      " 78%|███████▊  | 7/9 [00:38<00:10,  5.43s/it]\u001b[A\n",
      " 89%|████████▉ | 8/9 [00:43<00:05,  5.27s/it]\u001b[A\n",
      "100%|██████████| 9/9 [00:46<00:00,  5.21s/it]\u001b[A\n",
      "  1%|          | 17/1471 [10:55<17:46:04, 43.99s/it]\n",
      "  0%|          | 0/9 [00:00<?, ?it/s]\u001b[A\n",
      " 11%|█         | 1/9 [00:05<00:47,  5.96s/it]\u001b[A\n",
      " 22%|██▏       | 2/9 [00:11<00:40,  5.85s/it]\u001b[A\n",
      " 33%|███▎      | 3/9 [00:17<00:35,  5.95s/it]\u001b[A\n",
      " 44%|████▍     | 4/9 [00:23<00:29,  5.80s/it]\u001b[A\n",
      " 67%|██████▋   | 6/9 [00:34<00:16,  5.53s/it]\u001b[A\n",
      " 78%|███████▊  | 7/9 [00:39<00:11,  5.50s/it]\u001b[A\n",
      " 89%|████████▉ | 8/9 [00:45<00:05,  5.54s/it]\u001b[A\n",
      "100%|██████████| 9/9 [00:46<00:00,  5.18s/it]\u001b[A\n",
      "  1%|          | 18/1471 [11:41<18:04:15, 44.77s/it]\n",
      "  0%|          | 0/9 [00:00<?, ?it/s]\u001b[A\n",
      " 11%|█         | 1/9 [00:06<00:50,  6.31s/it]\u001b[A\n",
      " 22%|██▏       | 2/9 [00:12<00:42,  6.04s/it]\u001b[A\n",
      " 33%|███▎      | 3/9 [00:17<00:35,  5.91s/it]\u001b[A\n",
      " 44%|████▍     | 4/9 [00:23<00:28,  5.76s/it]\u001b[A\n",
      " 56%|█████▌    | 5/9 [00:28<00:22,  5.66s/it]\u001b[A\n",
      " 67%|██████▋   | 6/9 [00:34<00:17,  5.68s/it]\u001b[A\n",
      " 78%|███████▊  | 7/9 [00:40<00:11,  5.64s/it]\u001b[A\n",
      " 89%|████████▉ | 8/9 [00:46<00:05,  5.80s/it]\u001b[A\n",
      "100%|██████████| 9/9 [00:48<00:00,  5.42s/it]\u001b[A\n",
      "  1%|▏         | 19/1471 [12:30<18:32:22, 45.97s/it]\n",
      "  0%|          | 0/9 [00:00<?, ?it/s]\u001b[A\n",
      " 11%|█         | 1/9 [00:06<00:50,  6.30s/it]\u001b[A\n",
      " 22%|██▏       | 2/9 [00:12<00:42,  6.13s/it]\u001b[A\n",
      " 33%|███▎      | 3/9 [00:17<00:34,  5.78s/it]\u001b[A\n",
      " 44%|████▍     | 4/9 [00:23<00:28,  5.62s/it]\u001b[A\n",
      " 56%|█████▌    | 5/9 [00:28<00:21,  5.42s/it]\u001b[A\n",
      " 67%|██████▋   | 6/9 [00:33<00:16,  5.45s/it]\u001b[A\n",
      " 78%|███████▊  | 7/9 [00:39<00:11,  5.62s/it]\u001b[A\n",
      " 89%|████████▉ | 8/9 [00:44<00:05,  5.55s/it]\u001b[A\n",
      "100%|██████████| 9/9 [00:50<00:00,  5.60s/it]\u001b[A\n",
      "  1%|▏         | 20/1471 [13:21<19:03:40, 47.29s/it]\n",
      "  0%|          | 0/9 [00:00<?, ?it/s]\u001b[A\n",
      " 11%|█         | 1/9 [00:06<00:52,  6.51s/it]\u001b[A\n",
      " 22%|██▏       | 2/9 [00:12<00:42,  6.00s/it]\u001b[A\n",
      " 33%|███▎      | 3/9 [00:17<00:34,  5.83s/it]\u001b[A\n",
      " 44%|████▍     | 4/9 [00:23<00:28,  5.71s/it]\u001b[A\n",
      " 56%|█████▌    | 5/9 [00:28<00:22,  5.56s/it]\u001b[A\n",
      " 67%|██████▋   | 6/9 [00:34<00:16,  5.56s/it]\u001b[A\n",
      " 78%|███████▊  | 7/9 [00:39<00:10,  5.47s/it]\u001b[A\n",
      " 89%|████████▉ | 8/9 [00:44<00:05,  5.44s/it]\u001b[A\n",
      "100%|██████████| 9/9 [00:46<00:00,  5.16s/it]\u001b[A\n",
      "  1%|▏         | 21/1471 [14:07<18:56:37, 47.03s/it]\n",
      "  0%|          | 0/10 [00:00<?, ?it/s]\u001b[A\n",
      " 10%|█         | 1/10 [00:06<00:55,  6.16s/it]\u001b[A\n",
      " 20%|██        | 2/10 [00:11<00:47,  5.90s/it]\u001b[A\n",
      " 30%|███       | 3/10 [00:17<00:39,  5.71s/it]\u001b[A\n",
      " 40%|████      | 4/10 [00:23<00:34,  5.73s/it]\u001b[A\n",
      " 50%|█████     | 5/10 [00:28<00:28,  5.66s/it]\u001b[A\n",
      " 60%|██████    | 6/10 [00:34<00:23,  5.78s/it]\u001b[A\n",
      " 70%|███████   | 7/10 [00:40<00:17,  5.81s/it]\u001b[A\n",
      " 80%|████████  | 8/10 [00:46<00:11,  5.82s/it]\u001b[A\n",
      " 90%|█████████ | 9/10 [00:52<00:05,  5.77s/it]\u001b[A\n",
      "100%|██████████| 10/10 [00:54<00:00,  5.45s/it]\u001b[A\n",
      "  1%|▏         | 22/1471 [15:01<19:49:42, 49.26s/it]\n",
      "  0%|          | 0/9 [00:00<?, ?it/s]\u001b[A\n",
      " 11%|█         | 1/9 [00:05<00:47,  5.96s/it]\u001b[A\n",
      " 22%|██▏       | 2/9 [00:11<00:40,  5.81s/it]\u001b[A\n",
      " 33%|███▎      | 3/9 [00:17<00:35,  5.88s/it]\u001b[A\n",
      " 44%|████▍     | 4/9 [00:22<00:28,  5.62s/it]\u001b[A\n",
      " 56%|█████▌    | 5/9 [00:28<00:22,  5.54s/it]\u001b[A\n",
      " 67%|██████▋   | 6/9 [00:33<00:16,  5.51s/it]\u001b[A\n",
      " 78%|███████▊  | 7/9 [00:39<00:10,  5.46s/it]\u001b[A\n",
      " 89%|████████▉ | 8/9 [00:44<00:05,  5.55s/it]\u001b[A\n",
      "100%|██████████| 9/9 [00:46<00:00,  5.16s/it]\u001b[A\n",
      "  2%|▏         | 23/1471 [15:48<19:28:31, 48.42s/it]\n",
      "  0%|          | 0/10 [00:00<?, ?it/s]\u001b[A\n",
      " 10%|█         | 1/10 [00:06<00:54,  6.09s/it]\u001b[A\n",
      " 20%|██        | 2/10 [00:11<00:47,  5.98s/it]\u001b[A\n",
      " 30%|███       | 3/10 [00:17<00:41,  5.98s/it]\u001b[A\n",
      " 40%|████      | 4/10 [00:23<00:35,  5.93s/it]\u001b[A\n",
      " 50%|█████     | 5/10 [00:29<00:29,  5.98s/it]\u001b[A\n",
      " 60%|██████    | 6/10 [00:35<00:23,  5.82s/it]\u001b[A\n",
      " 70%|███████   | 7/10 [00:41<00:17,  5.79s/it]\u001b[A\n",
      " 80%|████████  | 8/10 [00:46<00:11,  5.81s/it]\u001b[A\n",
      " 90%|█████████ | 9/10 [00:52<00:05,  5.84s/it]\u001b[A\n",
      "100%|██████████| 10/10 [00:53<00:00,  5.35s/it]\u001b[A\n",
      "  2%|▏         | 24/1471 [16:41<20:04:35, 49.95s/it]\n",
      "  0%|          | 0/7 [00:00<?, ?it/s]\u001b[A\n",
      " 14%|█▍        | 1/7 [00:06<00:37,  6.28s/it]\u001b[A\n",
      " 29%|██▊       | 2/7 [00:11<00:29,  5.95s/it]\u001b[A\n",
      " 43%|████▎     | 3/7 [00:17<00:23,  5.76s/it]\u001b[A\n",
      " 57%|█████▋    | 4/7 [00:23<00:17,  5.89s/it]\u001b[A\n",
      " 71%|███████▏  | 5/7 [00:28<00:11,  5.68s/it]\u001b[A\n",
      " 86%|████████▌ | 6/7 [00:34<00:05,  5.62s/it]\u001b[A\n",
      "100%|██████████| 7/7 [00:37<00:00,  5.41s/it]\u001b[A\n",
      "  2%|▏         | 25/1471 [17:19<18:36:40, 46.34s/it]\n",
      "  0%|          | 0/8 [00:00<?, ?it/s]\u001b[A\n",
      " 12%|█▎        | 1/8 [00:06<00:46,  6.69s/it]\u001b[A\n",
      " 25%|██▌       | 2/8 [00:12<00:35,  6.00s/it]\u001b[A\n",
      " 38%|███▊      | 3/8 [00:17<00:28,  5.75s/it]\u001b[A\n",
      " 50%|█████     | 4/8 [00:23<00:22,  5.72s/it]\u001b[A\n",
      " 62%|██████▎   | 5/8 [00:29<00:17,  5.82s/it]\u001b[A\n",
      " 75%|███████▌  | 6/8 [00:35<00:11,  5.79s/it]\u001b[A\n",
      " 88%|████████▊ | 7/8 [00:40<00:05,  5.77s/it]\u001b[A\n",
      "100%|██████████| 8/8 [00:45<00:00,  5.67s/it]\u001b[A\n",
      "  2%|▏         | 26/1471 [18:05<18:29:06, 46.05s/it]\n",
      "  0%|          | 0/9 [00:00<?, ?it/s]\u001b[A\n",
      " 11%|█         | 1/9 [00:06<00:48,  6.10s/it]\u001b[A\n",
      " 22%|██▏       | 2/9 [00:11<00:41,  5.96s/it]\u001b[A\n",
      " 33%|███▎      | 3/9 [00:18<00:37,  6.27s/it]\u001b[A\n",
      " 44%|████▍     | 4/9 [00:24<00:30,  6.13s/it]\u001b[A\n",
      " 56%|█████▌    | 5/9 [00:30<00:23,  5.99s/it]\u001b[A\n",
      " 67%|██████▋   | 6/9 [00:35<00:17,  5.86s/it]\u001b[A\n",
      " 78%|███████▊  | 7/9 [00:41<00:11,  5.83s/it]\u001b[A\n",
      " 89%|████████▉ | 8/9 [00:47<00:05,  5.77s/it]\u001b[A\n",
      "100%|██████████| 9/9 [00:49<00:00,  5.51s/it]\u001b[A\n",
      "  2%|▏         | 27/1471 [18:54<18:54:10, 47.13s/it]\n",
      "  0%|          | 0/9 [00:00<?, ?it/s]\u001b[A\n",
      " 11%|█         | 1/9 [00:06<00:49,  6.25s/it]\u001b[A\n",
      " 22%|██▏       | 2/9 [00:11<00:41,  5.93s/it]\u001b[A\n",
      " 33%|███▎      | 3/9 [00:17<00:35,  5.93s/it]\u001b[A\n",
      " 44%|████▍     | 4/9 [00:23<00:29,  5.83s/it]\u001b[A\n",
      " 56%|█████▌    | 5/9 [00:29<00:22,  5.71s/it]\u001b[A\n",
      " 78%|███████▊  | 7/9 [00:40<00:11,  5.83s/it]\u001b[A\n",
      " 89%|████████▉ | 8/9 [00:46<00:05,  5.90s/it]\u001b[A\n",
      "100%|██████████| 9/9 [00:50<00:00,  5.62s/it]\u001b[A\n",
      "  2%|▏         | 28/1471 [19:45<19:18:22, 48.17s/it]\n",
      "  0%|          | 0/8 [00:00<?, ?it/s]\u001b[A\n",
      " 12%|█▎        | 1/8 [00:06<00:43,  6.19s/it]\u001b[A\n",
      " 25%|██▌       | 2/8 [00:11<00:34,  5.82s/it]\u001b[A\n",
      " 38%|███▊      | 3/8 [00:17<00:28,  5.68s/it]\u001b[A\n",
      " 50%|█████     | 4/8 [00:22<00:22,  5.58s/it]\u001b[A\n",
      " 62%|██████▎   | 5/8 [00:28<00:17,  5.69s/it]\u001b[A\n",
      " 75%|███████▌  | 6/8 [00:34<00:11,  5.68s/it]\u001b[A\n",
      " 88%|████████▊ | 7/8 [00:39<00:05,  5.68s/it]\u001b[A\n",
      "100%|██████████| 8/8 [00:42<00:00,  5.32s/it]\u001b[A\n",
      "  2%|▏         | 29/1471 [20:27<18:37:05, 46.48s/it]\n",
      "  0%|          | 0/10 [00:00<?, ?it/s]\u001b[A\n",
      " 10%|█         | 1/10 [00:06<00:59,  6.58s/it]\u001b[A\n",
      " 20%|██        | 2/10 [00:12<00:48,  6.05s/it]\u001b[A\n",
      " 30%|███       | 3/10 [00:18<00:41,  5.98s/it]\u001b[A\n",
      " 40%|████      | 4/10 [00:23<00:35,  5.92s/it]\u001b[A\n",
      " 50%|█████     | 5/10 [00:29<00:29,  5.83s/it]\u001b[A\n",
      " 60%|██████    | 6/10 [00:35<00:22,  5.71s/it]\u001b[A\n",
      " 70%|███████   | 7/10 [00:40<00:17,  5.74s/it]\u001b[A\n",
      " 80%|████████  | 8/10 [00:46<00:11,  5.84s/it]\u001b[A\n",
      " 90%|█████████ | 9/10 [00:52<00:05,  5.67s/it]\u001b[A\n",
      "100%|██████████| 10/10 [00:54<00:00,  5.47s/it]\u001b[A\n",
      "  2%|▏         | 30/1471 [21:22<19:35:24, 48.94s/it]\n",
      "  0%|          | 0/11 [00:00<?, ?it/s]\u001b[A\n",
      "  9%|▉         | 1/11 [00:06<01:00,  6.02s/it]\u001b[A\n",
      " 18%|█▊        | 2/11 [00:11<00:53,  5.93s/it]\u001b[A\n",
      " 27%|██▋       | 3/11 [00:17<00:46,  5.86s/it]\u001b[A\n",
      " 36%|███▋      | 4/11 [00:23<00:40,  5.81s/it]\u001b[A\n",
      " 45%|████▌     | 5/11 [00:29<00:34,  5.79s/it]\u001b[A\n",
      " 55%|█████▍    | 6/11 [00:34<00:28,  5.73s/it]\u001b[A\n",
      " 64%|██████▎   | 7/11 [00:40<00:23,  5.76s/it]\u001b[A\n",
      " 73%|███████▎  | 8/11 [00:46<00:17,  5.83s/it]\u001b[A\n",
      " 82%|████████▏ | 9/11 [00:52<00:11,  5.79s/it]\u001b[A\n",
      " 91%|█████████ | 10/11 [00:57<00:05,  5.63s/it]\u001b[A\n",
      "100%|██████████| 11/11 [00:59<00:00,  5.39s/it]\u001b[A\n",
      "  2%|▏         | 31/1471 [22:21<20:48:55, 52.04s/it]\n",
      "  0%|          | 0/9 [00:00<?, ?it/s]\u001b[A\n",
      " 11%|█         | 1/9 [00:05<00:47,  5.95s/it]\u001b[A\n",
      " 22%|██▏       | 2/9 [00:11<00:41,  5.87s/it]\u001b[A\n",
      " 33%|███▎      | 3/9 [00:17<00:35,  5.95s/it]\u001b[A\n",
      " 44%|████▍     | 4/9 [00:23<00:28,  5.76s/it]\u001b[A\n",
      " 56%|█████▌    | 5/9 [00:28<00:22,  5.64s/it]\u001b[A\n",
      " 67%|██████▋   | 6/9 [00:34<00:16,  5.64s/it]\u001b[A\n",
      " 78%|███████▊  | 7/9 [00:39<00:10,  5.47s/it]\u001b[A\n",
      " 89%|████████▉ | 8/9 [00:45<00:05,  5.58s/it]\u001b[A\n",
      "100%|██████████| 9/9 [00:51<00:00,  5.67s/it]\u001b[A\n",
      "  2%|▏         | 32/1471 [23:12<20:41:05, 51.75s/it]\n",
      "  0%|          | 0/9 [00:00<?, ?it/s]\u001b[A\n",
      " 11%|█         | 1/9 [00:06<00:49,  6.22s/it]\u001b[A\n",
      " 22%|██▏       | 2/9 [00:11<00:41,  5.91s/it]\u001b[A\n",
      " 33%|███▎      | 3/9 [00:17<00:35,  5.86s/it]\u001b[A\n",
      " 44%|████▍     | 4/9 [00:23<00:29,  5.84s/it]\u001b[A\n",
      " 56%|█████▌    | 5/9 [00:29<00:23,  5.79s/it]\u001b[A\n",
      " 67%|██████▋   | 6/9 [00:34<00:17,  5.78s/it]\u001b[A"
     ]
    }
   ],
   "source": [
    "#### TAGGING WITH FREQUENCY\n",
    "\n",
    "bs = 32\n",
    "save_dir_all = '../../../db'\n",
    "\n",
    "if not os.path.exists(save_dir_all):\n",
    "    os.mkdir(save_dir_all)\n",
    "\n",
    "\n",
    "save_dir = f'{save_dir_all}/ram_plus_encoded'\n",
    "\n",
    "if not os.path.exists(save_dir):\n",
    "    os.mkdir(save_dir)\n",
    "\n",
    "# for key, video_keyframe_paths in all_keyframe_paths.items():\n",
    "video_ids = sorted(video_keyframe_paths.keys())\n",
    "\n",
    "for video_id in tqdm(video_ids):\n",
    "    \n",
    "    if not os.path.exists(os.path.join(save_dir, video_id)):\n",
    "        os.mkdir(os.path.join(save_dir, video_id))\n",
    "    \n",
    "    \n",
    "    tag_contexts = []\n",
    "    video_keyframe_path = video_keyframe_paths[video_id]\n",
    "\n",
    "\n",
    "    for i in tqdm(range(0, len(video_keyframe_path), bs)):\n",
    "        # Support batchsize inferencing\n",
    "        images = []\n",
    "        image_paths = video_keyframe_path[i:i+bs]\n",
    "        for image_path in image_paths:\n",
    "            image = transform(Image.open(image_path)).unsqueeze(0)\n",
    "            images.append(image)\n",
    "        images = torch.cat(images).to(device)\n",
    "\n",
    "        # Forward ram model\n",
    "        tag_outputs, tag_logits = forward_ram(model, images)\n",
    "\n",
    "        # Encode result\n",
    "        for b in range(len(tag_outputs)):\n",
    "            tag_context = []\n",
    "            tag_output, tag_logit = tag_outputs[b], tag_logits[b]\n",
    "            tag_frequency = np.round(tag_logit*10).astype(int)\n",
    "            for tag, freq in zip(tag_output, tag_frequency):\n",
    "                tag_context.extend([tag]*freq)\n",
    "            tag_context = ' '.join(map(str, tag_context))\n",
    "            tag_contexts.append(tag_context)\n",
    "\n",
    "    if len(tag_contexts) != len(video_keyframe_path):\n",
    "        print(\"Something wrong!!!!!\")\n",
    "        break\n",
    "\n",
    "    # Saving the video tag context txt\n",
    "    with open(f\"{save_dir}/{video_id}.txt\", \"w\") as f:\n",
    "        for item in tag_contexts:\n",
    "            f.write(\"%s\\n\" % item)   "
   ]
  },
  {
   "cell_type": "code",
   "execution_count": 23,
   "id": "7d3847fa-4587-4041-a6ce-4268154e1f99",
   "metadata": {
    "tags": []
   },
   "outputs": [],
   "source": [
    "del images"
   ]
  },
  {
   "cell_type": "code",
   "execution_count": null,
   "id": "6ce769a0-bf36-4905-bc69-4af722f04d73",
   "metadata": {},
   "outputs": [],
   "source": [
    "import gc\n",
    "gc.collect()"
   ]
  },
  {
   "cell_type": "code",
   "execution_count": 20,
   "id": "2d9819be-0553-4740-8861-16ee51f0ecca",
   "metadata": {
    "tags": []
   },
   "outputs": [
    {
     "name": "stderr",
     "output_type": "stream",
     "text": [
      "  0%|          | 0/2 [00:00<?, ?it/s]\n",
      "  0%|          | 0/68 [00:00<?, ?it/s]\u001b[A\n",
      "  1%|▏         | 1/68 [00:00<00:39,  1.69it/s]\u001b[A\n",
      "  3%|▎         | 2/68 [00:01<00:36,  1.81it/s]\u001b[A\n",
      "  4%|▍         | 3/68 [00:01<00:35,  1.82it/s]\u001b[A\n",
      "  6%|▌         | 4/68 [00:02<00:34,  1.83it/s]\u001b[A\n",
      "  7%|▋         | 5/68 [00:02<00:34,  1.83it/s]\u001b[A\n",
      "  9%|▉         | 6/68 [00:03<00:33,  1.85it/s]\u001b[A\n",
      " 10%|█         | 7/68 [00:03<00:33,  1.84it/s]\u001b[A\n",
      " 12%|█▏        | 8/68 [00:04<00:32,  1.83it/s]\u001b[A\n",
      " 13%|█▎        | 9/68 [00:04<00:32,  1.83it/s]\u001b[A\n",
      " 15%|█▍        | 10/68 [00:05<00:31,  1.82it/s]\u001b[A\n",
      " 16%|█▌        | 11/68 [00:06<00:31,  1.82it/s]\u001b[A\n",
      " 18%|█▊        | 12/68 [00:06<00:30,  1.83it/s]\u001b[A\n",
      " 19%|█▉        | 13/68 [00:07<00:30,  1.83it/s]\u001b[A\n",
      " 21%|██        | 14/68 [00:07<00:29,  1.82it/s]\u001b[A\n",
      " 22%|██▏       | 15/68 [00:08<00:29,  1.82it/s]\u001b[A\n",
      " 24%|██▎       | 16/68 [00:08<00:28,  1.82it/s]\u001b[A\n",
      " 25%|██▌       | 17/68 [00:09<00:28,  1.81it/s]\u001b[A\n",
      " 26%|██▋       | 18/68 [00:09<00:27,  1.81it/s]\u001b[A\n",
      " 28%|██▊       | 19/68 [00:10<00:27,  1.81it/s]\u001b[A\n",
      " 29%|██▉       | 20/68 [00:11<00:26,  1.80it/s]\u001b[A\n",
      " 31%|███       | 21/68 [00:11<00:26,  1.79it/s]\u001b[A\n",
      " 32%|███▏      | 22/68 [00:12<00:25,  1.78it/s]\u001b[A\n",
      " 34%|███▍      | 23/68 [00:12<00:25,  1.78it/s]\u001b[A\n",
      " 35%|███▌      | 24/68 [00:13<00:24,  1.78it/s]\u001b[A\n",
      " 37%|███▋      | 25/68 [00:13<00:24,  1.77it/s]\u001b[A\n",
      " 38%|███▊      | 26/68 [00:14<00:23,  1.77it/s]\u001b[A\n",
      " 40%|███▉      | 27/68 [00:14<00:23,  1.77it/s]\u001b[A\n",
      " 41%|████      | 28/68 [00:15<00:22,  1.77it/s]\u001b[A\n",
      " 43%|████▎     | 29/68 [00:16<00:22,  1.76it/s]\u001b[A\n",
      " 44%|████▍     | 30/68 [00:16<00:21,  1.76it/s]\u001b[A\n",
      " 46%|████▌     | 31/68 [00:17<00:21,  1.75it/s]\u001b[A\n",
      " 47%|████▋     | 32/68 [00:17<00:20,  1.75it/s]\u001b[A\n",
      " 49%|████▊     | 33/68 [00:18<00:20,  1.74it/s]\u001b[A\n",
      " 50%|█████     | 34/68 [00:18<00:19,  1.74it/s]\u001b[A\n",
      " 51%|█████▏    | 35/68 [00:19<00:19,  1.74it/s]\u001b[A\n",
      " 53%|█████▎    | 36/68 [00:20<00:18,  1.74it/s]\u001b[A\n",
      " 54%|█████▍    | 37/68 [00:20<00:17,  1.74it/s]\u001b[A\n",
      " 56%|█████▌    | 38/68 [00:21<00:17,  1.73it/s]\u001b[A\n",
      " 57%|█████▋    | 39/68 [00:21<00:16,  1.73it/s]\u001b[A\n",
      " 59%|█████▉    | 40/68 [00:22<00:16,  1.74it/s]\u001b[A\n",
      " 60%|██████    | 41/68 [00:23<00:15,  1.73it/s]\u001b[A\n",
      " 62%|██████▏   | 42/68 [00:23<00:15,  1.73it/s]\u001b[A\n",
      " 63%|██████▎   | 43/68 [00:24<00:14,  1.72it/s]\u001b[A\n",
      " 65%|██████▍   | 44/68 [00:24<00:13,  1.72it/s]\u001b[A\n",
      " 66%|██████▌   | 45/68 [00:25<00:13,  1.71it/s]\u001b[A\n",
      " 68%|██████▊   | 46/68 [00:25<00:12,  1.71it/s]\u001b[A\n",
      " 69%|██████▉   | 47/68 [00:26<00:12,  1.70it/s]\u001b[A\n",
      " 71%|███████   | 48/68 [00:27<00:11,  1.70it/s]\u001b[A\n",
      " 72%|███████▏  | 49/68 [00:27<00:11,  1.70it/s]\u001b[A\n",
      " 74%|███████▎  | 50/68 [00:28<00:10,  1.70it/s]\u001b[A\n",
      " 75%|███████▌  | 51/68 [00:28<00:10,  1.70it/s]\u001b[A\n",
      " 76%|███████▋  | 52/68 [00:29<00:09,  1.70it/s]\u001b[A\n",
      " 78%|███████▊  | 53/68 [00:30<00:08,  1.70it/s]\u001b[A\n",
      " 79%|███████▉  | 54/68 [00:30<00:08,  1.70it/s]\u001b[A\n",
      " 81%|████████  | 55/68 [00:31<00:07,  1.69it/s]\u001b[A\n",
      " 82%|████████▏ | 56/68 [00:31<00:07,  1.69it/s]\u001b[A\n",
      " 84%|████████▍ | 57/68 [00:32<00:06,  1.69it/s]\u001b[A\n",
      " 85%|████████▌ | 58/68 [00:33<00:05,  1.68it/s]\u001b[A\n",
      " 87%|████████▋ | 59/68 [00:33<00:05,  1.68it/s]\u001b[A\n",
      " 88%|████████▊ | 60/68 [00:34<00:04,  1.68it/s]\u001b[A\n",
      " 90%|████████▉ | 61/68 [00:34<00:04,  1.67it/s]\u001b[A\n",
      " 91%|█████████ | 62/68 [00:35<00:03,  1.67it/s]\u001b[A\n",
      " 93%|█████████▎| 63/68 [00:36<00:02,  1.67it/s]\u001b[A\n",
      " 94%|█████████▍| 64/68 [00:36<00:02,  1.67it/s]\u001b[A\n",
      " 96%|█████████▌| 65/68 [00:37<00:01,  1.68it/s]\u001b[A\n",
      " 97%|█████████▋| 66/68 [00:37<00:01,  1.67it/s]\u001b[A\n",
      " 99%|█████████▊| 67/68 [00:38<00:00,  1.68it/s]\u001b[A\n",
      "100%|██████████| 68/68 [00:39<00:00,  1.74it/s]\u001b[A\n",
      " 50%|█████     | 1/2 [00:39<00:39, 39.02s/it]\n",
      "  0%|          | 0/54 [00:00<?, ?it/s]\u001b[A\n",
      "  2%|▏         | 1/54 [00:00<00:31,  1.70it/s]\u001b[A\n",
      "  4%|▎         | 2/54 [00:01<00:30,  1.68it/s]\u001b[A\n",
      "  6%|▌         | 3/54 [00:01<00:30,  1.68it/s]\u001b[A\n",
      "  7%|▋         | 4/54 [00:02<00:29,  1.68it/s]\u001b[A\n",
      "  9%|▉         | 5/54 [00:02<00:29,  1.68it/s]\u001b[A\n",
      " 11%|█         | 6/54 [00:03<00:28,  1.67it/s]\u001b[A\n",
      " 13%|█▎        | 7/54 [00:04<00:28,  1.66it/s]\u001b[A\n",
      " 15%|█▍        | 8/54 [00:04<00:27,  1.68it/s]\u001b[A\n",
      " 17%|█▋        | 9/54 [00:05<00:26,  1.67it/s]\u001b[A\n",
      " 19%|█▊        | 10/54 [00:05<00:26,  1.68it/s]\u001b[A\n",
      " 20%|██        | 11/54 [00:06<00:25,  1.68it/s]\u001b[A\n",
      " 22%|██▏       | 12/54 [00:07<00:24,  1.69it/s]\u001b[A\n",
      " 24%|██▍       | 13/54 [00:07<00:24,  1.70it/s]\u001b[A\n",
      " 26%|██▌       | 14/54 [00:08<00:23,  1.71it/s]\u001b[A\n",
      " 28%|██▊       | 15/54 [00:08<00:22,  1.71it/s]\u001b[A\n",
      " 30%|██▉       | 16/54 [00:09<00:22,  1.72it/s]\u001b[A\n",
      " 31%|███▏      | 17/54 [00:10<00:21,  1.72it/s]\u001b[A\n",
      " 33%|███▎      | 18/54 [00:10<00:20,  1.73it/s]\u001b[A\n",
      " 35%|███▌      | 19/54 [00:11<00:20,  1.73it/s]\u001b[A\n",
      " 37%|███▋      | 20/54 [00:11<00:19,  1.72it/s]\u001b[A\n",
      " 39%|███▉      | 21/54 [00:12<00:19,  1.73it/s]\u001b[A\n",
      " 41%|████      | 22/54 [00:12<00:18,  1.74it/s]\u001b[A\n",
      " 43%|████▎     | 23/54 [00:13<00:17,  1.75it/s]\u001b[A\n",
      " 44%|████▍     | 24/54 [00:14<00:17,  1.76it/s]\u001b[A\n",
      " 46%|████▋     | 25/54 [00:14<00:16,  1.76it/s]\u001b[A\n",
      " 48%|████▊     | 26/54 [00:15<00:15,  1.76it/s]\u001b[A\n",
      " 50%|█████     | 27/54 [00:15<00:15,  1.76it/s]\u001b[A\n",
      " 52%|█████▏    | 28/54 [00:16<00:14,  1.77it/s]\u001b[A\n",
      " 54%|█████▎    | 29/54 [00:16<00:14,  1.77it/s]\u001b[A\n",
      " 56%|█████▌    | 30/54 [00:17<00:13,  1.77it/s]\u001b[A\n",
      " 57%|█████▋    | 31/54 [00:18<00:13,  1.77it/s]\u001b[A\n",
      " 59%|█████▉    | 32/54 [00:18<00:12,  1.77it/s]\u001b[A\n",
      " 61%|██████    | 33/54 [00:19<00:11,  1.77it/s]\u001b[A\n",
      " 63%|██████▎   | 34/54 [00:19<00:11,  1.77it/s]\u001b[A\n",
      " 65%|██████▍   | 35/54 [00:20<00:10,  1.77it/s]\u001b[A\n",
      " 67%|██████▋   | 36/54 [00:20<00:10,  1.77it/s]\u001b[A\n",
      " 69%|██████▊   | 37/54 [00:21<00:09,  1.77it/s]\u001b[A\n",
      " 70%|███████   | 38/54 [00:21<00:09,  1.78it/s]\u001b[A\n",
      " 72%|███████▏  | 39/54 [00:22<00:08,  1.79it/s]\u001b[A\n",
      " 74%|███████▍  | 40/54 [00:23<00:07,  1.79it/s]\u001b[A\n",
      " 76%|███████▌  | 41/54 [00:23<00:07,  1.79it/s]\u001b[A\n",
      " 78%|███████▊  | 42/54 [00:24<00:06,  1.79it/s]\u001b[A\n",
      " 80%|███████▉  | 43/54 [00:24<00:06,  1.79it/s]\u001b[A\n",
      " 81%|████████▏ | 44/54 [00:25<00:05,  1.80it/s]\u001b[A\n",
      " 83%|████████▎ | 45/54 [00:25<00:05,  1.80it/s]\u001b[A\n",
      " 85%|████████▌ | 46/54 [00:26<00:04,  1.81it/s]\u001b[A\n",
      " 87%|████████▋ | 47/54 [00:26<00:03,  1.81it/s]\u001b[A\n",
      " 89%|████████▉ | 48/54 [00:27<00:03,  1.82it/s]\u001b[A\n",
      " 91%|█████████ | 49/54 [00:28<00:02,  1.81it/s]\u001b[A\n",
      " 93%|█████████▎| 50/54 [00:28<00:02,  1.81it/s]\u001b[A\n",
      " 94%|█████████▍| 51/54 [00:29<00:01,  1.81it/s]\u001b[A\n",
      " 96%|█████████▋| 52/54 [00:29<00:01,  1.82it/s]\u001b[A\n",
      " 98%|█████████▊| 53/54 [00:30<00:00,  1.82it/s]\u001b[A\n",
      "100%|██████████| 54/54 [00:30<00:00,  1.75it/s]\u001b[A\n",
      "100%|██████████| 2/2 [01:09<00:00, 34.90s/it]\n"
     ]
    }
   ],
   "source": [
    "# ##### SIMPLE TAGGING\n",
    "\n",
    "# bs = 4\n",
    "# save_dir_all = '../../../db'\n",
    "\n",
    "# if not os.path.exists(save_dir_all):\n",
    "#     os.mkdir(save_dir_all)\n",
    "\n",
    "\n",
    "# save_dir = f'{save_dir_all}/ram_plus_encoded'\n",
    "\n",
    "# save_dir_v2 = f'{save_dir_all}/ram_plus_encoded_v2'\n",
    "\n",
    "\n",
    "\n",
    "# if not os.path.exists(save_dir):\n",
    "#     os.mkdir(save_dir)\n",
    "\n",
    "# if not os.path.exists(save_dir_v2):\n",
    "#     os.mkdir(save_dir_v2)\n",
    "# # for key, video_keyframe_paths in all_keyframe_paths.items():\n",
    "# video_ids = sorted(video_keyframe_paths.keys())\n",
    "\n",
    "# for video_id in tqdm(video_ids):\n",
    "    \n",
    "#     tag_contexts = []\n",
    "#     video_keyframe_path = video_keyframe_paths[video_id]\n",
    "\n",
    "\n",
    "#     for i in tqdm(range(0, len(video_keyframe_path), bs)):\n",
    "#         # Support batchsize inferencing\n",
    "#         images = []\n",
    "#         image_paths = video_keyframe_path[i:i+bs]\n",
    "#         for image_path in image_paths:\n",
    "#             image = transform(Image.open(image_path)).unsqueeze(0)\n",
    "#             images.append(image)\n",
    "#         images = torch.cat(images).to(device)\n",
    "\n",
    "#         # Forward ram model\n",
    "#         tag_outputs, tag_logits = forward_ram(model, images)\n",
    "\n",
    "#         # Encode result\n",
    "#         for b in range(len(tag_outputs)):\n",
    "#             tag_output, tag_logit = tag_outputs[b], tag_logits[b]\n",
    "#             tag_context = ' '.join(map(str, tag_output))\n",
    "#             tag_contexts.append(tag_context)\n",
    "\n",
    "#     if len(tag_contexts) != len(video_keyframe_path):\n",
    "#         print(\"Something wrong!!!!!\")\n",
    "#         break\n",
    "\n",
    "#     # Saving the video tag context txt\n",
    "#     with open(f\"{save_dir_v2}/{video_id}.txt\", \"w\") as f:\n",
    "#         for item in tag_contexts:\n",
    "#             f.write(\"%s\\n\" % item)   "
   ]
  },
  {
   "cell_type": "code",
   "execution_count": null,
   "id": "290ce5b0-0619-4490-909d-5d7b053fcaf7",
   "metadata": {},
   "outputs": [],
   "source": []
  },
  {
   "cell_type": "code",
   "execution_count": null,
   "id": "a68e98b3-6ab2-4529-9dfe-5913c8c638bf",
   "metadata": {},
   "outputs": [],
   "source": []
  }
 ],
 "metadata": {
  "environment": {
   "kernel": "amato",
   "name": "common-cu118.m124",
   "type": "gcloud",
   "uri": "us-docker.pkg.dev/deeplearning-platform-release/gcr.io/base-cu118:m124"
  },
  "kernelspec": {
   "display_name": "amato (Local)",
   "language": "python",
   "name": "amato"
  },
  "language_info": {
   "codemirror_mode": {
    "name": "ipython",
    "version": 3
   },
   "file_extension": ".py",
   "mimetype": "text/x-python",
   "name": "python",
   "nbconvert_exporter": "python",
   "pygments_lexer": "ipython3",
   "version": "3.10.14"
  }
 },
 "nbformat": 4,
 "nbformat_minor": 5
}
